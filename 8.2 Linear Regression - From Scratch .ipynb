{
 "cells": [
  {
   "cell_type": "code",
   "execution_count": 1,
   "id": "f2afd4ce-d891-442c-8291-0811349d8058",
   "metadata": {},
   "outputs": [],
   "source": [
    "import numpy as np\n",
    "import matplotlib.pyplot as plt"
   ]
  },
  {
   "cell_type": "code",
   "execution_count": 2,
   "id": "d729d931-b556-4651-a20d-ff57a6d3969b",
   "metadata": {},
   "outputs": [],
   "source": [
    "data = np.loadtxt('data.csv', delimiter = \",\")"
   ]
  },
  {
   "cell_type": "code",
   "execution_count": 9,
   "id": "11ea05fb-3ada-4c37-a390-25c7ba4a5d92",
   "metadata": {},
   "outputs": [],
   "source": [
    "x = data[:,0]\n",
    "y = data[:,1]"
   ]
  },
  {
   "cell_type": "code",
   "execution_count": 10,
   "id": "378405dd-879f-4f17-bca1-7af365dc7a30",
   "metadata": {},
   "outputs": [
    {
     "data": {
      "text/plain": [
       "((100,), (100,))"
      ]
     },
     "execution_count": 10,
     "metadata": {},
     "output_type": "execute_result"
    }
   ],
   "source": [
    "x.shape, y.shape"
   ]
  },
  {
   "cell_type": "code",
   "execution_count": 12,
   "id": "dd75acd2-9323-44bf-a0a6-60e1181b7fc4",
   "metadata": {},
   "outputs": [
    {
     "name": "stdout",
     "output_type": "stream",
     "text": [
      "(70,)\n"
     ]
    }
   ],
   "source": [
    "from sklearn import model_selection\n",
    "\n",
    "X_train, X_test, Y_train, Y_test = model_selection.train_test_split(x,y, test_size = 0.3)\n",
    "print(X_train.shape)"
   ]
  },
  {
   "cell_type": "code",
   "execution_count": 13,
   "id": "0274d6c0-c018-41d2-a4cb-5855be394b00",
   "metadata": {},
   "outputs": [],
   "source": [
    "def fit(x_train,y_train):\n",
    "    m = ((x_train * y_train).mean() - x_train.mean()* y_train.mean())/ ((x_train**2).mean() - (x_train.mean())**2)\n",
    "    c = y_train.mean() - (m*x_train.mean())\n",
    "    \n",
    "    return m,c"
   ]
  },
  {
   "cell_type": "code",
   "execution_count": 15,
   "id": "e1be53f2-798c-4b77-87ee-21d9b82b644e",
   "metadata": {},
   "outputs": [],
   "source": [
    "def predict(x, m, c):\n",
    "    y_pred = m*x + c\n",
    "    return y_pred"
   ]
  },
  {
   "cell_type": "code",
   "execution_count": 14,
   "id": "91e40840-ddb4-43ee-93c7-70cab7e1b8e2",
   "metadata": {},
   "outputs": [],
   "source": [
    "def score(y_true, y_pred):\n",
    "    u = ((y_true - y_pred)**2).sum()\n",
    "    v = ((y_true - y_true.mean())**2).sum()\n",
    "\n",
    "    return 1 - (u/v)"
   ]
  },
  {
   "cell_type": "code",
   "execution_count": 20,
   "id": "a4f28003-cef0-49cc-831a-61adba5d1a74",
   "metadata": {},
   "outputs": [],
   "source": [
    "def cost(x, y, m, c):\n",
    "    cost = ((y - (m*x +c))**2).mean()\n",
    "    return cost"
   ]
  },
  {
   "cell_type": "code",
   "execution_count": 21,
   "id": "db12fe05-f9f5-4004-9a0c-cd60fb917731",
   "metadata": {},
   "outputs": [
    {
     "name": "stdout",
     "output_type": "stream",
     "text": [
      "Test Score: 0.5775775873311547\n",
      "Train Score: 0.5969065653376173\n",
      "Cost on training data  119.12059761552422\n",
      "M, C: 1.3350559051929765 7.851325793929718\n"
     ]
    }
   ],
   "source": [
    "m,c = fit(X_train, Y_train)\n",
    "\n",
    "# test data\n",
    "y_test_pred = predict(X_test, m, c)\n",
    "print(\"Test Score:\", score(Y_test, y_test_pred))\n",
    "\n",
    "# train data\n",
    "y_train_pred = predict(X_train, m, c)\n",
    "print(\"Train Score:\", score(Y_train, y_train_pred))\n",
    "print(\"Cost on training data \", cost(X_train, Y_train, m, c))\n",
    "print(\"M, C:\", m, c)"
   ]
  },
  {
   "cell_type": "code",
   "execution_count": 24,
   "id": "cd71f92e-f89c-4b05-8191-19cb7d89a7b9",
   "metadata": {},
   "outputs": [
    {
     "name": "stdout",
     "output_type": "stream",
     "text": [
      "M 1.33505590519299 C 7.85132579392905\n"
     ]
    }
   ],
   "source": [
    "from sklearn.linear_model import LinearRegression\n",
    "\n",
    "alg1 = LinearRegression()\n",
    "alg1.fit(X_train.reshape(-1,1), Y_train)\n",
    "print(\"M\", alg1.coef_[0], \"C\", alg1.intercept_ )"
   ]
  },
  {
   "cell_type": "code",
   "execution_count": null,
   "id": "9789b698-3155-4650-9c7a-61a5cc1fec3f",
   "metadata": {},
   "outputs": [],
   "source": []
  }
 ],
 "metadata": {
  "kernelspec": {
   "display_name": "Python 3 (ipykernel)",
   "language": "python",
   "name": "python3"
  },
  "language_info": {
   "codemirror_mode": {
    "name": "ipython",
    "version": 3
   },
   "file_extension": ".py",
   "mimetype": "text/x-python",
   "name": "python",
   "nbconvert_exporter": "python",
   "pygments_lexer": "ipython3",
   "version": "3.11.7"
  }
 },
 "nbformat": 4,
 "nbformat_minor": 5
}
