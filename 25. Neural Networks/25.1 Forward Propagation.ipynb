{
 "cells": [
  {
   "cell_type": "code",
   "execution_count": 1,
   "id": "8b09d4cc-0aea-40cd-930f-c6b166e58064",
   "metadata": {},
   "outputs": [],
   "source": [
    "import numpy as np"
   ]
  },
  {
   "cell_type": "code",
   "execution_count": 3,
   "id": "cda37ca5-e003-46ed-9a2c-661dfbe9b916",
   "metadata": {},
   "outputs": [
    {
     "data": {
      "text/plain": [
       "((4, 2), (4, 1))"
      ]
     },
     "execution_count": 3,
     "metadata": {},
     "output_type": "execute_result"
    }
   ],
   "source": [
    "X = np.array([[0,0], [1,0], [1,0], [1,1]])\n",
    "Y = np.array([[0, 0, 0, 1]]).T\n",
    "X.shape, Y.shape"
   ]
  },
  {
   "cell_type": "code",
   "execution_count": 4,
   "id": "369bd2ac-1dcd-4fa4-90d3-0168131f1a69",
   "metadata": {},
   "outputs": [],
   "source": [
    "def sig(z):\n",
    "    return 1/(1 + np.exp(-z))"
   ]
  },
  {
   "cell_type": "code",
   "execution_count": 16,
   "id": "3d0af30a-6684-4830-9646-e8957571ba6c",
   "metadata": {},
   "outputs": [],
   "source": [
    "def derivativeSig(z):\n",
    "    return sig(z) * (1-sig(z))"
   ]
  },
  {
   "cell_type": "markdown",
   "id": "33054513-5427-4f90-856b-0fcaf25b29e4",
   "metadata": {},
   "source": [
    "#### Forward Propagation with no hidden layers "
   ]
  },
  {
   "cell_type": "code",
   "execution_count": 9,
   "id": "b3108ea9-b014-4607-87eb-e7642bd86df4",
   "metadata": {},
   "outputs": [
    {
     "data": {
      "text/plain": [
       "(array([[0.76740685],\n",
       "        [0.75028859]]),\n",
       " array([-0.41154291]))"
      ]
     },
     "execution_count": 9,
     "metadata": {},
     "output_type": "execute_result"
    }
   ],
   "source": [
    "weights = 2* np.random.random((2,1)) -1 # range is -1 to 1\n",
    "bias = np.random.random(1) -1\n",
    "weights, bias"
   ]
  },
  {
   "cell_type": "code",
   "execution_count": 12,
   "id": "164d2bbe-d94a-4c14-86ae-eae672adf0db",
   "metadata": {},
   "outputs": [
    {
     "data": {
      "text/plain": [
       "array([[0.39854222],\n",
       "       [0.58803884],\n",
       "       [0.58803884],\n",
       "       [0.75141113]])"
      ]
     },
     "execution_count": 12,
     "metadata": {},
     "output_type": "execute_result"
    }
   ],
   "source": [
    "# forward propagation with no hidden layers weights\n",
    "output0 = X\n",
    "output = sig(np.dot(output0, weights) + bias)\n",
    "output"
   ]
  },
  {
   "cell_type": "markdown",
   "id": "9967dffd-751d-4838-9713-e6be1e25aea2",
   "metadata": {},
   "source": [
    "#### Forward Propagation with one hidden layer"
   ]
  },
  {
   "cell_type": "code",
   "execution_count": 13,
   "id": "40831029-fbfb-429f-a729-1f0615c8e6f1",
   "metadata": {},
   "outputs": [],
   "source": [
    "wh = 2* np.random.random((2,2)) -1 # range is -1 to 1 ; shape = (no. of features, no. of units in hidden layer)\n",
    "bh = np.random.random((1,2)) -1\n",
    "wo = np.random.random((2,1)) -1 # output weights\n",
    "bo = np.random.random((1,1)) -1 # output bias"
   ]
  },
  {
   "cell_type": "code",
   "execution_count": 15,
   "id": "fd0a8a44-ee83-4704-9352-f4118f18492e",
   "metadata": {},
   "outputs": [
    {
     "data": {
      "text/plain": [
       "array([[0.25253429],\n",
       "       [0.24783822],\n",
       "       [0.24783822],\n",
       "       [0.25534293]])"
      ]
     },
     "execution_count": 15,
     "metadata": {},
     "output_type": "execute_result"
    }
   ],
   "source": [
    "# forward propagation with no hidden layers weights\n",
    "output0 = X\n",
    "output_hidden = sig(np.dot(output0, wh) + bh)\n",
    "output = sig(np.dot(output_hidden, wo) + bo)\n",
    "\n",
    "output"
   ]
  },
  {
   "cell_type": "code",
   "execution_count": null,
   "id": "17f3fb13-3c22-4474-a9dc-87c21feb6d38",
   "metadata": {},
   "outputs": [],
   "source": []
  }
 ],
 "metadata": {
  "kernelspec": {
   "display_name": "Python 3 (ipykernel)",
   "language": "python",
   "name": "python3"
  },
  "language_info": {
   "codemirror_mode": {
    "name": "ipython",
    "version": 3
   },
   "file_extension": ".py",
   "mimetype": "text/x-python",
   "name": "python",
   "nbconvert_exporter": "python",
   "pygments_lexer": "ipython3",
   "version": "3.12.4"
  }
 },
 "nbformat": 4,
 "nbformat_minor": 5
}
