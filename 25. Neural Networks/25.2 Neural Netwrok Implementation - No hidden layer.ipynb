{
 "cells": [
  {
   "cell_type": "code",
   "execution_count": 1,
   "id": "0761a5db-03e8-43ce-984c-d241c2dcb67c",
   "metadata": {},
   "outputs": [],
   "source": [
    "import numpy as np"
   ]
  },
  {
   "cell_type": "code",
   "execution_count": 2,
   "id": "41d7f3fd-8ce4-4325-9168-fd5f50e6f1bc",
   "metadata": {},
   "outputs": [
    {
     "data": {
      "text/plain": [
       "((4, 2), (4, 1))"
      ]
     },
     "execution_count": 2,
     "metadata": {},
     "output_type": "execute_result"
    }
   ],
   "source": [
    "X = np.array([[0,0], [1,0], [1,0], [1,1]])\n",
    "Y = np.array([[0, 0, 0, 1]]).T\n",
    "X.shape, Y.shape"
   ]
  },
  {
   "cell_type": "code",
   "execution_count": 3,
   "id": "e7b5016c-e78a-4f2d-b22f-381ec60446e8",
   "metadata": {},
   "outputs": [],
   "source": [
    "def sig(z):\n",
    "    return 1/(1 + np.exp(-z))"
   ]
  },
  {
   "cell_type": "code",
   "execution_count": 4,
   "id": "8d7a09ab-4259-4bc3-9670-7e39af1eeb57",
   "metadata": {},
   "outputs": [],
   "source": [
    "def derivativeSig(z):\n",
    "    return sig(z) * (1-sig(z))"
   ]
  },
  {
   "cell_type": "code",
   "execution_count": 23,
   "id": "ab5d7c76-8386-4144-9f40-a2aa49ebe77f",
   "metadata": {},
   "outputs": [
    {
     "data": {
      "text/plain": [
       "(array([[ 0.95131138],\n",
       "        [-0.70718465]]),\n",
       " array([-0.93536288]))"
      ]
     },
     "execution_count": 23,
     "metadata": {},
     "output_type": "execute_result"
    }
   ],
   "source": [
    "weights = 2* np.random.random((2,1)) -1 # range is -1 to 1\n",
    "bias = np.random.random(1) -1\n",
    "lr = 0.1\n",
    "weights, bias"
   ]
  },
  {
   "cell_type": "code",
   "execution_count": 21,
   "id": "540f7d49-4503-4285-8237-beae40900500",
   "metadata": {},
   "outputs": [
    {
     "data": {
      "text/plain": [
       "(array([[3.41954169],\n",
       "        [3.52551594]]),\n",
       " array([-5.68029074]),\n",
       " array([[0.00340096],\n",
       "        [0.0944263 ],\n",
       "        [0.0944263 ],\n",
       "        [0.77984561]]))"
      ]
     },
     "execution_count": 21,
     "metadata": {},
     "output_type": "execute_result"
    }
   ],
   "source": [
    "# forward propagation with no hidden layers weights\n",
    "for iter in range(10000):\n",
    "    \n",
    "    output0 = X\n",
    "    output = sig(np.dot(output0, weights) + bias)\n",
    "    \n",
    "    first_term = output-Y\n",
    "    input_for_last_layer = sig(np.dot(output0, weights) + bias)\n",
    "    second_term = derivativeSig(input_for_last_layer)\n",
    "    \n",
    "    first_two = first_term * second_term\n",
    "    first_two.shape\n",
    "    \n",
    "    changes = np.array([[0.0], [0.0]])\n",
    "    for i in range(2):\n",
    "        for j in range(4):\n",
    "            changes[i][0] += first_two[j][0] * output0[j][0]\n",
    "            \n",
    "    weights = weights - lr*changes\n",
    "    \n",
    "    bias_change = 0.0\n",
    "    for j in range(4):\n",
    "            bias_change += first_two[j][0] * 1\n",
    "    bias = bias - lr*bias_change\n",
    "output = sig(np.dot(X, weights) + bias)\n",
    "weights, bias, output"
   ]
  },
  {
   "cell_type": "code",
   "execution_count": 25,
   "id": "6781f2e8-e1f5-4512-8130-4fe2ce98725e",
   "metadata": {},
   "outputs": [
    {
     "data": {
      "text/plain": [
       "(array([[ 0.12315388],\n",
       "        [11.43319548]]),\n",
       " array([-6.29467392]),\n",
       " array([[0.00184271],\n",
       "        [0.00208371],\n",
       "        [0.00208371],\n",
       "        [0.99484015]]))"
      ]
     },
     "execution_count": 25,
     "metadata": {},
     "output_type": "execute_result"
    }
   ],
   "source": [
    "# optimized code using vector operations\n",
    "for iter in range(10000):\n",
    "    \n",
    "    output0 = X\n",
    "    output = sig(np.dot(output0, weights) + bias)\n",
    "    first_term = output-Y\n",
    "    input_for_last_layer = sig(np.dot(output0, weights) + bias)\n",
    "    second_term = derivativeSig(input_for_last_layer)\n",
    "    \n",
    "    first_two = first_term * second_term\n",
    "    first_two.shape\n",
    "    \n",
    "    changes = np.dot(output0.T, first_two)\n",
    "    weights = weights - lr*changes\n",
    "    \n",
    "    bias_change = np.sum(first_two)\n",
    "    bias = bias - lr*bias_change\n",
    "    \n",
    "output = sig(np.dot(X, weights) + bias)\n",
    "weights, bias, output"
   ]
  },
  {
   "cell_type": "code",
   "execution_count": null,
   "id": "326d73c2-73c5-4738-ac75-0606feac8e52",
   "metadata": {},
   "outputs": [],
   "source": []
  }
 ],
 "metadata": {
  "kernelspec": {
   "display_name": "Python 3 (ipykernel)",
   "language": "python",
   "name": "python3"
  },
  "language_info": {
   "codemirror_mode": {
    "name": "ipython",
    "version": 3
   },
   "file_extension": ".py",
   "mimetype": "text/x-python",
   "name": "python",
   "nbconvert_exporter": "python",
   "pygments_lexer": "ipython3",
   "version": "3.12.4"
  }
 },
 "nbformat": 4,
 "nbformat_minor": 5
}
