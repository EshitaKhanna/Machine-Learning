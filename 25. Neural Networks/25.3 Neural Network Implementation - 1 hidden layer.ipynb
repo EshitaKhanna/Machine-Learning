{
 "cells": [
  {
   "cell_type": "code",
   "execution_count": 1,
   "id": "18c687dd-13e5-4876-a1eb-d4bb04cae2ce",
   "metadata": {},
   "outputs": [],
   "source": [
    "import numpy as np"
   ]
  },
  {
   "cell_type": "code",
   "execution_count": 12,
   "id": "5bd03274-ac9b-44d6-9643-c6f00850df87",
   "metadata": {},
   "outputs": [
    {
     "data": {
      "text/plain": [
       "((4, 2), (4, 1))"
      ]
     },
     "execution_count": 12,
     "metadata": {},
     "output_type": "execute_result"
    }
   ],
   "source": [
    "X = np.array([[0,0], [0,1], [1,0], [1,1]])\n",
    "Y = np.array([[0, 1, 1, 0]]).T\n",
    "X.shape, Y.shape"
   ]
  },
  {
   "cell_type": "code",
   "execution_count": 3,
   "id": "eeac97d5-cf66-4c33-ab03-f0ed447a6b96",
   "metadata": {},
   "outputs": [],
   "source": [
    "def sig(z):\n",
    "    return 1/(1 + np.exp(-z))"
   ]
  },
  {
   "cell_type": "code",
   "execution_count": 4,
   "id": "c16b95ef-c8e7-46b9-ba0e-aa79919c97d0",
   "metadata": {},
   "outputs": [],
   "source": [
    "def derivativeSig(z):\n",
    "    return sig(z) * (1-sig(z))"
   ]
  },
  {
   "cell_type": "code",
   "execution_count": 14,
   "id": "a8218494-33ce-43a4-afd1-7214f00bba49",
   "metadata": {},
   "outputs": [],
   "source": [
    "wh = 2* np.random.random((2,2)) -1 # range is -1 to 1 ; shape = (no. of features, no. of units in hidden layer)\n",
    "bh = np.random.random((1,2)) -1\n",
    "wo = np.random.random((2,1)) -1 # output weights\n",
    "bo = np.random.random((1,1)) -1 # output bias\n",
    "\n",
    "lr = 0.1"
   ]
  },
  {
   "cell_type": "code",
   "execution_count": 15,
   "id": "0f7d8724-f2ed-48b1-89f8-95fb0a933bcd",
   "metadata": {},
   "outputs": [
    {
     "data": {
      "text/plain": [
       "(array([[0.01068265],\n",
       "        [0.98882329],\n",
       "        [0.98880964],\n",
       "        [0.01376164]]),\n",
       " array([[-5.03319742, -6.66232872],\n",
       "        [-5.03715865, -6.68282144]]),\n",
       " array([[7.50519564, 2.76890357]]),\n",
       " array([[ 10.53928337],\n",
       "        [-10.66714113]]),\n",
       " array([[-5.02439934]]))"
      ]
     },
     "execution_count": 15,
     "metadata": {},
     "output_type": "execute_result"
    }
   ],
   "source": [
    "# forward propagation with one hidden layers weights\n",
    "for iter in range(100000):\n",
    "    output0 = X\n",
    "    input_hidden = np.dot(output0, wh) + bh\n",
    "    output_hidden = sig(input_hidden)\n",
    "    \n",
    "    input_for_output_layer = np.dot(output_hidden, wo) + bo\n",
    "    output = sig(input_for_output_layer)\n",
    "    \n",
    "    first_term_output_layer = output-Y\n",
    "    second_term_output_layer = derivativeSig(input_for_output_layer)\n",
    "    first_two_output_layer = first_term_output_layer * second_term_output_layer\n",
    "    \n",
    "    first_term_hidden_layer = np.dot(first_two_output_layer, wo.T)\n",
    "    second_term_hidden_layer = derivativeSig(input_hidden)\n",
    "    first_two_hidden_layer = first_term_hidden_layer * second_term_hidden_layer\n",
    "    \n",
    "    changes_output = np.dot(output_hidden.T, first_two_output_layer)\n",
    "    changes_output_bias = np.sum(first_two_output_layer, axis = 0, keepdims = True)\n",
    "    \n",
    "    changes_hidden = np.dot(output0.T, first_two_hidden_layer)\n",
    "    changes_hidden_bias = np.sum(first_two_hidden_layer, axis = 0, keepdims = True)\n",
    "    \n",
    "    wo = wo - lr*changes_output\n",
    "    bo = bo - lr*changes_output_bias\n",
    "    \n",
    "    wh = wh - lr*changes_hidden\n",
    "    bh = bh - lr*changes_hidden_bias\n",
    "\n",
    "output0 = X\n",
    "input_hidden = np.dot(output0, wh) + bh\n",
    "output_hidden = sig(input_hidden)\n",
    "\n",
    "input_for_output_layer = np.dot(output_hidden, wo) + bo\n",
    "output = sig(input_for_output_layer)\n",
    "\n",
    "output, wh, bh, wo, bo"
   ]
  },
  {
   "cell_type": "code",
   "execution_count": null,
   "id": "57fb0d8b-95f7-466c-b9c1-42649ed04b06",
   "metadata": {},
   "outputs": [],
   "source": []
  }
 ],
 "metadata": {
  "kernelspec": {
   "display_name": "Python 3 (ipykernel)",
   "language": "python",
   "name": "python3"
  },
  "language_info": {
   "codemirror_mode": {
    "name": "ipython",
    "version": 3
   },
   "file_extension": ".py",
   "mimetype": "text/x-python",
   "name": "python",
   "nbconvert_exporter": "python",
   "pygments_lexer": "ipython3",
   "version": "3.12.4"
  }
 },
 "nbformat": 4,
 "nbformat_minor": 5
}
