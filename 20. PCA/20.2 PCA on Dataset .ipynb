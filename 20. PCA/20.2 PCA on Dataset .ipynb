{
 "cells": [
  {
   "cell_type": "code",
   "execution_count": 8,
   "id": "5f2228f9-b169-4e83-b7fc-938ece54811a",
   "metadata": {},
   "outputs": [],
   "source": [
    "from sklearn import decomposition, linear_model, datasets\n",
    "import numpy as np\n",
    "import time\n",
    "from sklearn.model_selection import train_test_split\n",
    "from sklearn.preprocessing import StandardScaler"
   ]
  },
  {
   "cell_type": "code",
   "execution_count": 2,
   "id": "9074a6dd-e163-4ac0-9706-f8783d8c8acc",
   "metadata": {},
   "outputs": [],
   "source": [
    "breast_cancer = datasets.load_breast_cancer()\n",
    "X = breast_cancer.data\n",
    "Y = breast_cancer.target"
   ]
  },
  {
   "cell_type": "code",
   "execution_count": 4,
   "id": "854e894e-4446-4cdb-8cfb-1766a4c1ede2",
   "metadata": {},
   "outputs": [],
   "source": [
    "sc = StandardScaler()\n",
    "X_std = sc.fit_transform(X)"
   ]
  },
  {
   "cell_type": "code",
   "execution_count": 5,
   "id": "e44abef3-36fe-426f-9697-2d8a66549fc5",
   "metadata": {},
   "outputs": [],
   "source": [
    "X_train, X_test, Y_train, Y_test = train_test_split(X_std, Y, random_state = 0)"
   ]
  },
  {
   "cell_type": "code",
   "execution_count": 6,
   "id": "afb3badf-bf61-4b18-b64d-39ca7dbaabf3",
   "metadata": {},
   "outputs": [
    {
     "data": {
      "text/plain": [
       "(569, 30)"
      ]
     },
     "execution_count": 6,
     "metadata": {},
     "output_type": "execute_result"
    }
   ],
   "source": [
    "X_std.shape"
   ]
  },
  {
   "cell_type": "code",
   "execution_count": 15,
   "id": "7b9d1a97-0b0b-45f8-95d1-f3b50cdb792a",
   "metadata": {},
   "outputs": [],
   "source": [
    "pca = decomposition.PCA()"
   ]
  },
  {
   "cell_type": "code",
   "execution_count": 16,
   "id": "f979927c-20c0-457e-88d4-aadda89feaac",
   "metadata": {},
   "outputs": [
    {
     "data": {
      "text/plain": [
       "array([[-2.83807710e+00, -3.19380204e-01, -5.09786956e-01, ...,\n",
       "         2.21524204e-03,  1.76560105e-02,  2.17290491e-03],\n",
       "       [-3.23881077e+00,  9.46695152e-01,  1.46301470e+00, ...,\n",
       "        -3.50930341e-03,  1.56914143e-02,  1.44518116e-02],\n",
       "       [ 3.92831902e+00, -3.30091570e+00,  1.84183164e+00, ...,\n",
       "         2.00501871e-02, -3.44990391e-02, -1.16657352e-02],\n",
       "       ...,\n",
       "       [-3.17962251e+00,  4.33267733e-01,  5.77005027e-01, ...,\n",
       "         3.85704447e-02, -4.18716728e-02,  1.59435183e-02],\n",
       "       [-5.59141525e+00, -7.52889177e-01,  4.06478207e+00, ...,\n",
       "         1.97618354e-02, -1.70355933e-02,  4.38111630e-03],\n",
       "       [-1.20802261e+00,  1.32965049e+00,  1.26115052e+00, ...,\n",
       "        -1.32544095e-02, -1.58653526e-03, -1.14601436e-02]])"
      ]
     },
     "execution_count": 16,
     "metadata": {},
     "output_type": "execute_result"
    }
   ],
   "source": [
    "pca.fit_transform(X_train)"
   ]
  },
  {
   "cell_type": "code",
   "execution_count": 20,
   "id": "abca3455-b5b3-42ef-b007-a16473ba83b9",
   "metadata": {},
   "outputs": [
    {
     "data": {
      "text/plain": [
       "10"
      ]
     },
     "execution_count": 20,
     "metadata": {},
     "output_type": "execute_result"
    }
   ],
   "source": [
    "total = sum(pca.explained_variance_)\n",
    "k = 0\n",
    "currennt_varinace = 0\n",
    "while currennt_varinace/total < 0.95: # how much variance do we need to keep\n",
    "    currennt_varinace += pca.explained_variance_[k]\n",
    "    k+=1\n",
    "k"
   ]
  },
  {
   "cell_type": "code",
   "execution_count": 21,
   "id": "0f4318a0-b114-464f-9b21-54dd6bcc3d3f",
   "metadata": {},
   "outputs": [],
   "source": [
    "pca = decomposition.PCA(n_components = k)\n",
    "x_train_pca = pca.fit_transform(X_train)\n",
    "x_test_pca = pca.transform(X_test)"
   ]
  },
  {
   "cell_type": "code",
   "execution_count": 22,
   "id": "8d89f8a5-ffa5-41e8-83fe-aa49479eb82e",
   "metadata": {},
   "outputs": [
    {
     "name": "stdout",
     "output_type": "stream",
     "text": [
      "0.965034965034965\n",
      "time: 0.0399167537689209\n"
     ]
    }
   ],
   "source": [
    "lr = linear_model.LogisticRegression()\n",
    "start = time.time()\n",
    "lr.fit(X_train, Y_train)\n",
    "end = time.time()\n",
    "print(lr.score(X_test, Y_test))\n",
    "print(\"time:\", end-start)"
   ]
  },
  {
   "cell_type": "code",
   "execution_count": 23,
   "id": "65bf43e1-31c8-42e0-abf3-afeb7cfca0ed",
   "metadata": {},
   "outputs": [
    {
     "name": "stdout",
     "output_type": "stream",
     "text": [
      "With pca: 0.958041958041958\n",
      "time: 0.004904270172119141\n"
     ]
    }
   ],
   "source": [
    "lr = linear_model.LogisticRegression()\n",
    "start = time.time()\n",
    "lr.fit(x_train_pca, Y_train)\n",
    "end = time.time()\n",
    "print(\"With pca:\" , lr.score(x_test_pca, Y_test))\n",
    "print(\"time:\", end-start)"
   ]
  },
  {
   "cell_type": "code",
   "execution_count": 24,
   "id": "f51432d2-2c38-48d6-b0cf-095f6255a123",
   "metadata": {},
   "outputs": [
    {
     "data": {
      "text/plain": [
       "array([13.02746837,  5.81556555,  2.85848795,  1.91901713,  1.70021491,\n",
       "        1.20663908,  0.65333715,  0.42673847,  0.42645054,  0.34558986])"
      ]
     },
     "execution_count": 24,
     "metadata": {},
     "output_type": "execute_result"
    }
   ],
   "source": [
    "pca.explained_variance_"
   ]
  },
  {
   "cell_type": "code",
   "execution_count": null,
   "id": "35dace91-0762-4498-b433-d4072512d49f",
   "metadata": {},
   "outputs": [],
   "source": []
  },
  {
   "cell_type": "code",
   "execution_count": null,
   "id": "208da4c8-b501-4ce9-ae7e-03586ce9b527",
   "metadata": {},
   "outputs": [],
   "source": []
  }
 ],
 "metadata": {
  "kernelspec": {
   "display_name": "Python 3 (ipykernel)",
   "language": "python",
   "name": "python3"
  },
  "language_info": {
   "codemirror_mode": {
    "name": "ipython",
    "version": 3
   },
   "file_extension": ".py",
   "mimetype": "text/x-python",
   "name": "python",
   "nbconvert_exporter": "python",
   "pygments_lexer": "ipython3",
   "version": "3.11.7"
  }
 },
 "nbformat": 4,
 "nbformat_minor": 5
}
