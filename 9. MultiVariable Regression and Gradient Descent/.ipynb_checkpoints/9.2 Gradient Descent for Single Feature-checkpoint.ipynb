{
 "cells": [
  {
   "cell_type": "code",
   "execution_count": 1,
   "id": "ff675e7e-d2b3-4f5a-9937-c88674d37a65",
   "metadata": {},
   "outputs": [],
   "source": [
    "import numpy as np"
   ]
  },
  {
   "cell_type": "code",
   "execution_count": 5,
   "id": "1c4259c7-a2e7-44bf-8701-4ffda23151d9",
   "metadata": {},
   "outputs": [
    {
     "data": {
      "text/plain": [
       "(100, 2)"
      ]
     },
     "execution_count": 5,
     "metadata": {},
     "output_type": "execute_result"
    }
   ],
   "source": [
    "data = np.loadtxt(\"data.csv\", delimiter = \",\")\n",
    "data.shape"
   ]
  },
  {
   "cell_type": "code",
   "execution_count": 6,
   "id": "4d76f981-7f66-4d67-8ba3-108eaf5d27d7",
   "metadata": {},
   "outputs": [],
   "source": [
    "def gradient_descent(points, learning_rate, num_iterations):\n",
    "    m = 0\n",
    "    c = 0\n",
    "    for i in range(num_iterations):\n",
    "        m,c = step_gradient(points, learning_rate, m, c)\n",
    "    return m,c"
   ]
  },
  {
   "cell_type": "code",
   "execution_count": 10,
   "id": "1f28753c-5c7b-40b0-837e-ebf455ecabc4",
   "metadata": {},
   "outputs": [],
   "source": [
    "def step_gradient(points, learning_rate, m, c):\n",
    "    m_slope = 0\n",
    "    c_slope = 0\n",
    "    N = len(points)\n",
    "    for i in range(N):\n",
    "        x = points[i, 0]\n",
    "        y = points[i, 1]\n",
    "\n",
    "        m_slope += (-2/N) * (y- m*x - c) * x \n",
    "        c_slope += (-2/N) * (y- m*x - c) \n",
    "    new_m = m - learning_rate* m_slope\n",
    "    new_c = c - learning_rate* c_slope\n",
    "\n",
    "    return new_m, new_c"
   ]
  },
  {
   "cell_type": "code",
   "execution_count": 11,
   "id": "bb118c75-cb55-4746-a9f4-1c3cca800193",
   "metadata": {},
   "outputs": [],
   "source": [
    "def run():\n",
    "    data = np.loadtxt(\"data.csv\", delimiter = \",\")\n",
    "    learning_rate = 0.001\n",
    "    num_iterations = 1000\n",
    "    m, c = gradient_descent(data, learning_rate, num_iterations)\n",
    "    print(m,c)"
   ]
  },
  {
   "cell_type": "code",
   "execution_count": 9,
   "id": "a8c4cca1-fc32-48d5-b643-05fb0909a944",
   "metadata": {},
   "outputs": [
    {
     "ename": "TypeError",
     "evalue": "'int' object is not iterable",
     "output_type": "error",
     "traceback": [
      "\u001b[0;31m---------------------------------------------------------------------------\u001b[0m",
      "\u001b[0;31mTypeError\u001b[0m                                 Traceback (most recent call last)",
      "Cell \u001b[0;32mIn[9], line 1\u001b[0m\n\u001b[0;32m----> 1\u001b[0m run()\n",
      "Cell \u001b[0;32mIn[8], line 5\u001b[0m, in \u001b[0;36mrun\u001b[0;34m()\u001b[0m\n\u001b[1;32m      3\u001b[0m learning_rate \u001b[38;5;241m=\u001b[39m \u001b[38;5;241m0.001\u001b[39m\n\u001b[1;32m      4\u001b[0m num_iterations \u001b[38;5;241m=\u001b[39m \u001b[38;5;241m1000\u001b[39m\n\u001b[0;32m----> 5\u001b[0m m, c \u001b[38;5;241m=\u001b[39m gradient_descent(data, learning_rate, num_iterations)\n\u001b[1;32m      6\u001b[0m \u001b[38;5;28mprint\u001b[39m(m,c)\n",
      "Cell \u001b[0;32mIn[6], line 5\u001b[0m, in \u001b[0;36mgradient_descent\u001b[0;34m(points, learning_rate, num_iterations)\u001b[0m\n\u001b[1;32m      3\u001b[0m c \u001b[38;5;241m=\u001b[39m \u001b[38;5;241m0\u001b[39m\n\u001b[1;32m      4\u001b[0m \u001b[38;5;28;01mfor\u001b[39;00m i \u001b[38;5;129;01min\u001b[39;00m \u001b[38;5;28mrange\u001b[39m(num_iterations):\n\u001b[0;32m----> 5\u001b[0m     m,c \u001b[38;5;241m=\u001b[39m step_gradient(points, learning_rate, m, c)\n\u001b[1;32m      6\u001b[0m \u001b[38;5;28;01mreturn\u001b[39;00m m,c\n",
      "Cell \u001b[0;32mIn[7], line 4\u001b[0m, in \u001b[0;36mstep_gradient\u001b[0;34m(points, learning_rate, m, c)\u001b[0m\n\u001b[1;32m      2\u001b[0m m_slope \u001b[38;5;241m=\u001b[39m \u001b[38;5;241m0\u001b[39m\n\u001b[1;32m      3\u001b[0m c_slope \u001b[38;5;241m=\u001b[39m \u001b[38;5;241m0\u001b[39m\n\u001b[0;32m----> 4\u001b[0m \u001b[38;5;28;01mfor\u001b[39;00m i \u001b[38;5;129;01min\u001b[39;00m \u001b[38;5;28mlen\u001b[39m(points):\n\u001b[1;32m      5\u001b[0m     x \u001b[38;5;241m=\u001b[39m points[i, \u001b[38;5;241m0\u001b[39m]\n\u001b[1;32m      6\u001b[0m     y \u001b[38;5;241m=\u001b[39m points[i, \u001b[38;5;241m1\u001b[39m]\n",
      "\u001b[0;31mTypeError\u001b[0m: 'int' object is not iterable"
     ]
    }
   ],
   "source": [
    "run()"
   ]
  },
  {
   "cell_type": "code",
   "execution_count": null,
   "id": "ee0938c1-0dbf-4b66-b424-86e090a53987",
   "metadata": {},
   "outputs": [],
   "source": []
  }
 ],
 "metadata": {
  "kernelspec": {
   "display_name": "Python 3 (ipykernel)",
   "language": "python",
   "name": "python3"
  },
  "language_info": {
   "codemirror_mode": {
    "name": "ipython",
    "version": 3
   },
   "file_extension": ".py",
   "mimetype": "text/x-python",
   "name": "python",
   "nbconvert_exporter": "python",
   "pygments_lexer": "ipython3",
   "version": "3.11.7"
  }
 },
 "nbformat": 4,
 "nbformat_minor": 5
}
