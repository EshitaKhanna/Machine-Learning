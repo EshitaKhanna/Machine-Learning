{
 "cells": [
  {
   "cell_type": "code",
   "execution_count": 7,
   "id": "732ad52d-9f44-4635-ab16-7c0f4391ce79",
   "metadata": {},
   "outputs": [],
   "source": [
    "from keras.models import Sequential\n",
    "from keras.layers import Dense"
   ]
  },
  {
   "cell_type": "code",
   "execution_count": 8,
   "id": "5dd7886e-eaea-4c05-97f4-9cad4a5bcb62",
   "metadata": {},
   "outputs": [],
   "source": [
    "model = Sequential()"
   ]
  },
  {
   "cell_type": "code",
   "execution_count": 9,
   "id": "588431e3-8c24-400b-acc4-b48f72cba8ac",
   "metadata": {},
   "outputs": [
    {
     "name": "stderr",
     "output_type": "stream",
     "text": [
      "/opt/anaconda3/lib/python3.12/site-packages/keras/src/layers/core/dense.py:87: UserWarning: Do not pass an `input_shape`/`input_dim` argument to a layer. When using Sequential models, prefer using an `Input(shape)` object as the first layer in the model instead.\n",
      "  super().__init__(activity_regularizer=activity_regularizer, **kwargs)\n"
     ]
    }
   ],
   "source": [
    "layer1 = Dense(units=32, activation='relu', input_dim = 30)\n",
    "model.add(layer1)\n",
    "model.add(Dense(units=16, activation='relu'))\n",
    "model.add(Dense(units=1, activation='sigmoid'))"
   ]
  },
  {
   "cell_type": "code",
   "execution_count": 10,
   "id": "ee932017-25b0-4787-8238-456b42d77544",
   "metadata": {},
   "outputs": [],
   "source": [
    "model.compile(optimizer='adam', loss='binary_crossentropy',metrics=['accuracy'])"
   ]
  },
  {
   "cell_type": "code",
   "execution_count": 11,
   "id": "5a6264c8-741c-49fd-9c17-754f5c28c6f1",
   "metadata": {},
   "outputs": [],
   "source": [
    "from sklearn import datasets\n",
    "from sklearn.model_selection import train_test_split\n",
    "from sklearn.preprocessing import StandardScaler\n",
    "\n",
    "cancer = datasets.load_breast_cancer()\n",
    "x_train, x_test, y_train, y_test = train_test_split(cancer.data, cancer.target, test_size=0.2, random_state=0)\n",
    "\n",
    "sc = StandardScaler()\n",
    "x_train = sc.fit_transform(x_train)\n",
    "x_test = sc.transform(x_test)"
   ]
  },
  {
   "cell_type": "code",
   "execution_count": 12,
   "id": "07cafb37-f6bc-4a35-907d-df32481e4619",
   "metadata": {},
   "outputs": [
    {
     "name": "stdout",
     "output_type": "stream",
     "text": [
      "Epoch 1/20\n",
      "\u001b[1m10/10\u001b[0m \u001b[32m━━━━━━━━━━━━━━━━━━━━\u001b[0m\u001b[37m\u001b[0m \u001b[1m0s\u001b[0m 7ms/step - accuracy: 0.5933 - loss: 0.7533 - val_accuracy: 0.8509 - val_loss: 0.5505\n",
      "Epoch 2/20\n",
      "\u001b[1m10/10\u001b[0m \u001b[32m━━━━━━━━━━━━━━━━━━━━\u001b[0m\u001b[37m\u001b[0m \u001b[1m0s\u001b[0m 1ms/step - accuracy: 0.7945 - loss: 0.5297 - val_accuracy: 0.8860 - val_loss: 0.4197\n",
      "Epoch 3/20\n",
      "\u001b[1m10/10\u001b[0m \u001b[32m━━━━━━━━━━━━━━━━━━━━\u001b[0m\u001b[37m\u001b[0m \u001b[1m0s\u001b[0m 1ms/step - accuracy: 0.8746 - loss: 0.4028 - val_accuracy: 0.9035 - val_loss: 0.3291\n",
      "Epoch 4/20\n",
      "\u001b[1m10/10\u001b[0m \u001b[32m━━━━━━━━━━━━━━━━━━━━\u001b[0m\u001b[37m\u001b[0m \u001b[1m0s\u001b[0m 1ms/step - accuracy: 0.9407 - loss: 0.2926 - val_accuracy: 0.9298 - val_loss: 0.2663\n",
      "Epoch 5/20\n",
      "\u001b[1m10/10\u001b[0m \u001b[32m━━━━━━━━━━━━━━━━━━━━\u001b[0m\u001b[37m\u001b[0m \u001b[1m0s\u001b[0m 2ms/step - accuracy: 0.9385 - loss: 0.2496 - val_accuracy: 0.9474 - val_loss: 0.2207\n",
      "Epoch 6/20\n",
      "\u001b[1m10/10\u001b[0m \u001b[32m━━━━━━━━━━━━━━━━━━━━\u001b[0m\u001b[37m\u001b[0m \u001b[1m0s\u001b[0m 1ms/step - accuracy: 0.9469 - loss: 0.2100 - val_accuracy: 0.9474 - val_loss: 0.1891\n",
      "Epoch 7/20\n",
      "\u001b[1m10/10\u001b[0m \u001b[32m━━━━━━━━━━━━━━━━━━━━\u001b[0m\u001b[37m\u001b[0m \u001b[1m0s\u001b[0m 2ms/step - accuracy: 0.9316 - loss: 0.1962 - val_accuracy: 0.9474 - val_loss: 0.1665\n",
      "Epoch 8/20\n",
      "\u001b[1m10/10\u001b[0m \u001b[32m━━━━━━━━━━━━━━━━━━━━\u001b[0m\u001b[37m\u001b[0m \u001b[1m0s\u001b[0m 1ms/step - accuracy: 0.9552 - loss: 0.1384 - val_accuracy: 0.9474 - val_loss: 0.1505\n",
      "Epoch 9/20\n",
      "\u001b[1m10/10\u001b[0m \u001b[32m━━━━━━━━━━━━━━━━━━━━\u001b[0m\u001b[37m\u001b[0m \u001b[1m0s\u001b[0m 2ms/step - accuracy: 0.9405 - loss: 0.1566 - val_accuracy: 0.9474 - val_loss: 0.1383\n",
      "Epoch 10/20\n",
      "\u001b[1m10/10\u001b[0m \u001b[32m━━━━━━━━━━━━━━━━━━━━\u001b[0m\u001b[37m\u001b[0m \u001b[1m0s\u001b[0m 1ms/step - accuracy: 0.9545 - loss: 0.1258 - val_accuracy: 0.9474 - val_loss: 0.1272\n",
      "Epoch 11/20\n",
      "\u001b[1m10/10\u001b[0m \u001b[32m━━━━━━━━━━━━━━━━━━━━\u001b[0m\u001b[37m\u001b[0m \u001b[1m0s\u001b[0m 2ms/step - accuracy: 0.9557 - loss: 0.1212 - val_accuracy: 0.9474 - val_loss: 0.1173\n",
      "Epoch 12/20\n",
      "\u001b[1m10/10\u001b[0m \u001b[32m━━━━━━━━━━━━━━━━━━━━\u001b[0m\u001b[37m\u001b[0m \u001b[1m0s\u001b[0m 2ms/step - accuracy: 0.9656 - loss: 0.1011 - val_accuracy: 0.9474 - val_loss: 0.1090\n",
      "Epoch 13/20\n",
      "\u001b[1m10/10\u001b[0m \u001b[32m━━━━━━━━━━━━━━━━━━━━\u001b[0m\u001b[37m\u001b[0m \u001b[1m0s\u001b[0m 2ms/step - accuracy: 0.9752 - loss: 0.0854 - val_accuracy: 0.9561 - val_loss: 0.1021\n",
      "Epoch 14/20\n",
      "\u001b[1m10/10\u001b[0m \u001b[32m━━━━━━━━━━━━━━━━━━━━\u001b[0m\u001b[37m\u001b[0m \u001b[1m0s\u001b[0m 2ms/step - accuracy: 0.9730 - loss: 0.0848 - val_accuracy: 0.9561 - val_loss: 0.0958\n",
      "Epoch 15/20\n",
      "\u001b[1m10/10\u001b[0m \u001b[32m━━━━━━━━━━━━━━━━━━━━\u001b[0m\u001b[37m\u001b[0m \u001b[1m0s\u001b[0m 1ms/step - accuracy: 0.9720 - loss: 0.0839 - val_accuracy: 0.9737 - val_loss: 0.0912\n",
      "Epoch 16/20\n",
      "\u001b[1m10/10\u001b[0m \u001b[32m━━━━━━━━━━━━━━━━━━━━\u001b[0m\u001b[37m\u001b[0m \u001b[1m0s\u001b[0m 2ms/step - accuracy: 0.9727 - loss: 0.0778 - val_accuracy: 0.9737 - val_loss: 0.0874\n",
      "Epoch 17/20\n",
      "\u001b[1m10/10\u001b[0m \u001b[32m━━━━━━━━━━━━━━━━━━━━\u001b[0m\u001b[37m\u001b[0m \u001b[1m0s\u001b[0m 2ms/step - accuracy: 0.9818 - loss: 0.0633 - val_accuracy: 0.9737 - val_loss: 0.0846\n",
      "Epoch 18/20\n",
      "\u001b[1m10/10\u001b[0m \u001b[32m━━━━━━━━━━━━━━━━━━━━\u001b[0m\u001b[37m\u001b[0m \u001b[1m0s\u001b[0m 2ms/step - accuracy: 0.9754 - loss: 0.0708 - val_accuracy: 0.9737 - val_loss: 0.0821\n",
      "Epoch 19/20\n",
      "\u001b[1m10/10\u001b[0m \u001b[32m━━━━━━━━━━━━━━━━━━━━\u001b[0m\u001b[37m\u001b[0m \u001b[1m0s\u001b[0m 2ms/step - accuracy: 0.9686 - loss: 0.0731 - val_accuracy: 0.9737 - val_loss: 0.0790\n",
      "Epoch 20/20\n",
      "\u001b[1m10/10\u001b[0m \u001b[32m━━━━━━━━━━━━━━━━━━━━\u001b[0m\u001b[37m\u001b[0m \u001b[1m0s\u001b[0m 1ms/step - accuracy: 0.9680 - loss: 0.0642 - val_accuracy: 0.9737 - val_loss: 0.0765\n"
     ]
    },
    {
     "data": {
      "text/plain": [
       "<keras.src.callbacks.history.History at 0x156757230>"
      ]
     },
     "execution_count": 12,
     "metadata": {},
     "output_type": "execute_result"
    }
   ],
   "source": [
    "model.fit(x_train, y_train, epochs=20, batch_size=50, validation_data = (x_test,y_test))"
   ]
  },
  {
   "cell_type": "code",
   "execution_count": 13,
   "id": "851d2a3c-75c6-417d-8e30-720ce64bb6af",
   "metadata": {},
   "outputs": [
    {
     "name": "stdout",
     "output_type": "stream",
     "text": [
      "\u001b[1m4/4\u001b[0m \u001b[32m━━━━━━━━━━━━━━━━━━━━\u001b[0m\u001b[37m\u001b[0m \u001b[1m0s\u001b[0m 4ms/step \n"
     ]
    },
    {
     "data": {
      "text/plain": [
       "array([[3.31322066e-02],\n",
       "       [9.68264997e-01],\n",
       "       [9.97829080e-01],\n",
       "       [9.89297032e-01],\n",
       "       [9.98403728e-01],\n",
       "       [9.92185056e-01],\n",
       "       [9.97260511e-01],\n",
       "       [9.95064974e-01],\n",
       "       [9.98756647e-01],\n",
       "       [9.98703659e-01],\n",
       "       [5.91616988e-01],\n",
       "       [8.82056653e-01],\n",
       "       [9.99563634e-01],\n",
       "       [4.36550170e-01],\n",
       "       [5.57369888e-01],\n",
       "       [1.49886906e-02],\n",
       "       [9.91700172e-01],\n",
       "       [5.15560794e-04],\n",
       "       [7.11355219e-03],\n",
       "       [7.71997511e-05],\n",
       "       [1.96826626e-02],\n",
       "       [1.10932235e-02],\n",
       "       [9.84962761e-01],\n",
       "       [9.94644523e-01],\n",
       "       [2.23099766e-03],\n",
       "       [9.98706818e-01],\n",
       "       [9.99740422e-01],\n",
       "       [1.46016516e-02],\n",
       "       [9.95351970e-01],\n",
       "       [4.55613161e-04],\n",
       "       [9.99544322e-01],\n",
       "       [2.69211689e-03],\n",
       "       [8.31088066e-01],\n",
       "       [1.94709450e-02],\n",
       "       [9.99926388e-01],\n",
       "       [2.08416320e-02],\n",
       "       [9.87113059e-01],\n",
       "       [1.74369924e-02],\n",
       "       [9.87545013e-01],\n",
       "       [3.49813029e-02],\n",
       "       [3.65977287e-01],\n",
       "       [9.98669922e-01],\n",
       "       [2.68299609e-01],\n",
       "       [9.99341309e-01],\n",
       "       [9.48871732e-01],\n",
       "       [3.41799532e-05],\n",
       "       [9.99961436e-01],\n",
       "       [9.65430975e-01],\n",
       "       [9.96855021e-01],\n",
       "       [1.80393690e-03],\n",
       "       [1.23730386e-02],\n",
       "       [4.51344326e-02],\n",
       "       [2.75484845e-03],\n",
       "       [9.94578481e-01],\n",
       "       [9.81834054e-01],\n",
       "       [9.98007834e-01],\n",
       "       [9.96165633e-01],\n",
       "       [9.88174558e-01],\n",
       "       [9.93477762e-01],\n",
       "       [1.78956852e-05],\n",
       "       [6.92778602e-02],\n",
       "       [1.92227885e-02],\n",
       "       [9.99074936e-01],\n",
       "       [9.85908866e-01],\n",
       "       [2.14011432e-03],\n",
       "       [8.68195832e-01],\n",
       "       [8.82003945e-08],\n",
       "       [2.74438702e-04],\n",
       "       [4.53121436e-04],\n",
       "       [9.94758904e-01],\n",
       "       [6.51568353e-01],\n",
       "       [7.63712393e-04],\n",
       "       [9.95497644e-01],\n",
       "       [3.83787811e-01],\n",
       "       [1.90074978e-04],\n",
       "       [9.72875476e-01],\n",
       "       [9.99361336e-01],\n",
       "       [9.10454154e-01],\n",
       "       [9.99036849e-01],\n",
       "       [9.98029411e-01],\n",
       "       [4.26411852e-02],\n",
       "       [3.56271221e-06],\n",
       "       [9.79268108e-04],\n",
       "       [9.99073029e-01],\n",
       "       [2.18481924e-02],\n",
       "       [9.98413563e-01],\n",
       "       [9.99750912e-01],\n",
       "       [9.99796629e-01],\n",
       "       [4.14861087e-03],\n",
       "       [2.90716031e-07],\n",
       "       [9.99736845e-01],\n",
       "       [2.69885987e-01],\n",
       "       [4.30152088e-01],\n",
       "       [1.55358342e-04],\n",
       "       [9.93440807e-01],\n",
       "       [9.89699960e-01],\n",
       "       [8.12256301e-04],\n",
       "       [9.47319329e-01],\n",
       "       [9.82246697e-01],\n",
       "       [9.91911829e-01],\n",
       "       [9.99914825e-01],\n",
       "       [9.94521558e-01],\n",
       "       [9.91545081e-01],\n",
       "       [6.99939430e-01],\n",
       "       [2.33631395e-03],\n",
       "       [9.88577366e-01],\n",
       "       [5.73693251e-05],\n",
       "       [8.89384389e-01],\n",
       "       [8.11467230e-01],\n",
       "       [1.94375023e-01],\n",
       "       [9.50307429e-01],\n",
       "       [3.91935318e-04],\n",
       "       [2.31542159e-03],\n",
       "       [9.03714120e-01]], dtype=float32)"
      ]
     },
     "execution_count": 13,
     "metadata": {},
     "output_type": "execute_result"
    }
   ],
   "source": [
    "pred = model.predict(x_test)\n",
    "pred"
   ]
  },
  {
   "cell_type": "code",
   "execution_count": 14,
   "id": "f0a94b17-6a14-42b7-8706-bdc5f5ed881f",
   "metadata": {},
   "outputs": [
    {
     "name": "stdout",
     "output_type": "stream",
     "text": [
      "\u001b[1m4/4\u001b[0m \u001b[32m━━━━━━━━━━━━━━━━━━━━\u001b[0m\u001b[37m\u001b[0m \u001b[1m0s\u001b[0m 1ms/step - accuracy: 0.9759 - loss: 0.0689 \n"
     ]
    },
    {
     "data": {
      "text/plain": [
       "[0.07648581266403198, 0.9736841917037964]"
      ]
     },
     "execution_count": 14,
     "metadata": {},
     "output_type": "execute_result"
    }
   ],
   "source": [
    "model.evaluate(x_test, y_test)"
   ]
  },
  {
   "cell_type": "code",
   "execution_count": null,
   "id": "51a1f3f9-654d-46b2-bea2-96d229115789",
   "metadata": {},
   "outputs": [],
   "source": []
  }
 ],
 "metadata": {
  "kernelspec": {
   "display_name": "Python 3 (ipykernel)",
   "language": "python",
   "name": "python3"
  },
  "language_info": {
   "codemirror_mode": {
    "name": "ipython",
    "version": 3
   },
   "file_extension": ".py",
   "mimetype": "text/x-python",
   "name": "python",
   "nbconvert_exporter": "python",
   "pygments_lexer": "ipython3",
   "version": "3.12.4"
  }
 },
 "nbformat": 4,
 "nbformat_minor": 5
}
