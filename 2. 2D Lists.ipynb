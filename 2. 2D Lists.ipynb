{
 "cells": [
  {
   "cell_type": "markdown",
   "id": "820b15c0-7f30-458f-97ee-e25e27ecbb6a",
   "metadata": {},
   "source": [
    "### 2D Lists"
   ]
  },
  {
   "cell_type": "code",
   "execution_count": 2,
   "id": "e738d803-8070-4078-818e-9af4e6c6f33d",
   "metadata": {},
   "outputs": [
    {
     "data": {
      "text/plain": [
       "[[1, 2, 3], [4, 5, 6]]"
      ]
     },
     "execution_count": 2,
     "metadata": {},
     "output_type": "execute_result"
    }
   ],
   "source": [
    "li = [[1,2,3],[4,5,6]]\n",
    "li"
   ]
  },
  {
   "cell_type": "code",
   "execution_count": 5,
   "id": "a077c680-5a4a-4fc2-960d-6d6cd20cfa9c",
   "metadata": {},
   "outputs": [
    {
     "name": "stdout",
     "output_type": "stream",
     "text": [
      "[0, 1, 2, 3, 4, 5, 6, 7, 8, 9]\n",
      "[[0, 0, 0], [0, 0, 0], [0, 0, 0], [0, 0, 0], [0, 0, 0], [0, 0, 0], [0, 0, 0], [0, 0, 0], [0, 0, 0], [0, 0, 0]]\n",
      "[[0, 1, 2, 3, 4], [0, 1, 2, 3, 4], [0, 1, 2, 3, 4], [0, 1, 2, 3, 4], [0, 1, 2, 3, 4], [0, 1, 2, 3, 4], [0, 1, 2, 3, 4], [0, 1, 2, 3, 4], [0, 1, 2, 3, 4], [0, 1, 2, 3, 4]]\n"
     ]
    }
   ],
   "source": [
    "l1 = [i for i in range(10)]\n",
    "print(l1)\n",
    "\n",
    "l2 = [[0,0,0]for i in range(10)]\n",
    "print(l2)\n",
    "\n",
    "l3 = [[j for j in range(5)] for i in range(10)]\n",
    "print(l3)\n"
   ]
  },
  {
   "cell_type": "code",
   "execution_count": 18,
   "id": "15985552-e651-43a7-bb38-19e7aee627bd",
   "metadata": {},
   "outputs": [
    {
     "name": "stdin",
     "output_type": "stream",
     "text": [
      " 2 3\n",
      " 1 2 3 4 5 6\n"
     ]
    },
    {
     "data": {
      "text/plain": [
       "[[1, 2, 3], [4, 5, 6]]"
      ]
     },
     "execution_count": 18,
     "metadata": {},
     "output_type": "execute_result"
    }
   ],
   "source": [
    "# take input in 2D list\n",
    "str = input().strip().split(\" \")\n",
    "n = int(str[0]) # rows\n",
    "m = int(str[1]) # columns\n",
    "\n",
    "l = [int(i) for i in input().strip().split(\" \")]\n",
    "\n",
    "# method 1\n",
    "out = []\n",
    "for i in range(n):\n",
    "    out.append([])\n",
    "    for j in range(m):\n",
    "        out[i].append(l[i*m + j])\n",
    "\n",
    "# method 2\n",
    "out2 = [[l[i*m + j]for j in range(m)]for i in range(n)]\n",
    "out2"
   ]
  },
  {
   "cell_type": "code",
   "execution_count": 27,
   "id": "ed707b68-d98f-4c1f-9b01-c665b2743710",
   "metadata": {},
   "outputs": [
    {
     "name": "stdout",
     "output_type": "stream",
     "text": [
      "1 4 5 2 3 6 "
     ]
    }
   ],
   "source": [
    "# wave print\n",
    "'''\n",
    "1 2 3\n",
    "4 5 6\n",
    "'''\n",
    "n = len(out2)\n",
    "m = len(out[1])\n",
    "n,m\n",
    "\n",
    "# go column wise\n",
    "for j in range(m):\n",
    "    if(j%2 == 0):\n",
    "        # go in downward direction in each row\n",
    "        for i in range(n):\n",
    "            print(out2[i][j], end = \" \")\n",
    "    else:\n",
    "     for i in range(n-1,-1,-1):\n",
    "            print(out2[i][j], end = \" \")    "
   ]
  },
  {
   "cell_type": "code",
   "execution_count": null,
   "id": "3f414257-3e3b-40e0-88de-a04533a5fc5b",
   "metadata": {},
   "outputs": [],
   "source": [
    "# spiral print\n",
    "'''\n",
    " 1  2  3 4 \n",
    "14 15 16 5\n",
    "13 20 17 6\n",
    "12 19 18 7\n",
    "11 10  9 8\n",
    "'''\n",
    "def spiralPrint(mat, nRows, mCols):\n",
    "    ele = nRows * mCols\n",
    "    \n",
    "    rowUpLimit = nRows - 1\n",
    "    rowLowLimit = 0\n",
    "    \n",
    "    colUpLimit = mCols - 1\n",
    "    colLowLimit = 0\n",
    "\n",
    "    while ele > 0:\n",
    "\n",
    "        # left to right\n",
    "        for j in range(colLowLimit, colUpLimit):\n",
    "            print(mat[colLowLimit][j],end=\" \")\n",
    "            ele -= 1\n",
    "        \n",
    "        # top to bottom\n",
    "        rowLowLimit+=1\n",
    "        for i in range(rowLowLimit, rowUpLimit):\n",
    "            print(mat[i][colUpLimit],end=\" \")\n",
    "            ele -= 1\n",
    "        \n",
    "        # right to left\n",
    "        colUpLimit-=1\n",
    "        for j in range(colUpLimit, colLowLimit,-1):\n",
    "            print(mat[rowUpLimit][j],end=\" \")\n",
    "            ele -= 1\n",
    "            \n",
    "        # bottom to top\n",
    "        rowUpLimit-=1\n",
    "        for i in range(rowUpLimit, rowLowLimit, -1):\n",
    "            print(mat[i][colLowLimit],end=\" \")\n",
    "            ele -= 1\n",
    "            \n",
    "        colLowLimit +=1\n",
    "\n"
   ]
  }
 ],
 "metadata": {
  "kernelspec": {
   "display_name": "Python 3 (ipykernel)",
   "language": "python",
   "name": "python3"
  },
  "language_info": {
   "codemirror_mode": {
    "name": "ipython",
    "version": 3
   },
   "file_extension": ".py",
   "mimetype": "text/x-python",
   "name": "python",
   "nbconvert_exporter": "python",
   "pygments_lexer": "ipython3",
   "version": "3.11.7"
  }
 },
 "nbformat": 4,
 "nbformat_minor": 5
}
