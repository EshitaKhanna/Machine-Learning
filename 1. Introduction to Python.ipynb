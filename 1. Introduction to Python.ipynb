{
 "cells": [
  {
   "cell_type": "markdown",
   "id": "43d45f60",
   "metadata": {},
   "source": [
    "### Strings"
   ]
  },
  {
   "cell_type": "markdown",
   "id": "6469e480",
   "metadata": {},
   "source": [
    "s = \"My name is Eshita\"\n",
    "li = s.split(' ', 1) \n",
    "print(li)"
   ]
  },
  {
   "cell_type": "code",
   "execution_count": 2,
   "id": "38066324",
   "metadata": {},
   "outputs": [
    {
     "data": {
      "text/plain": [
       "'My name is Esha Eshita'"
      ]
     },
     "execution_count": 2,
     "metadata": {},
     "output_type": "execute_result"
    }
   ],
   "source": [
    "# replace - returns a new string since strings are immutable\n",
    "s = \"My name is Eshita Eshita\"\n",
    "#s.replace(\"Eshita\", \"Esha\")\n",
    "s.replace(\"Eshita\", \"Esha\", 1)"
   ]
  },
  {
   "cell_type": "code",
   "execution_count": 3,
   "id": "6b8056c0",
   "metadata": {},
   "outputs": [
    {
     "name": "stdout",
     "output_type": "stream",
     "text": [
      "11\n"
     ]
    }
   ],
   "source": [
    "# find - return index\n",
    "s = \"My name is Eshita\"\n",
    "index = s.find('E')\n",
    "print(index)"
   ]
  },
  {
   "cell_type": "code",
   "execution_count": 10,
   "id": "c9d91b61",
   "metadata": {},
   "outputs": [
    {
     "name": "stdout",
     "output_type": "stream",
     "text": [
      "ABC\n"
     ]
    }
   ],
   "source": [
    "# upper/ lower - creates a new object and does not change the original string\n",
    "s = \"ABC\"\n",
    "s.lower()\n",
    "print(s) "
   ]
  },
  {
   "cell_type": "code",
   "execution_count": 11,
   "id": "eeed9c02",
   "metadata": {},
   "outputs": [
    {
     "ename": "TypeError",
     "evalue": "can only concatenate str (not \"int\") to str",
     "output_type": "error",
     "traceback": [
      "\u001b[0;31m---------------------------------------------------------------------------\u001b[0m",
      "\u001b[0;31mTypeError\u001b[0m                                 Traceback (most recent call last)",
      "Cell \u001b[0;32mIn[11], line 2\u001b[0m\n\u001b[1;32m      1\u001b[0m s \u001b[38;5;241m=\u001b[39m \u001b[38;5;124m\"\u001b[39m\u001b[38;5;124mabcd\u001b[39m\u001b[38;5;124m\"\u001b[39m\n\u001b[0;32m----> 2\u001b[0m \u001b[38;5;28mprint\u001b[39m(\u001b[43ms\u001b[49m\u001b[43m \u001b[49m\u001b[38;5;241;43m+\u001b[39;49m\u001b[43m \u001b[49m\u001b[38;5;241;43m12\u001b[39;49m)\n",
      "\u001b[0;31mTypeError\u001b[0m: can only concatenate str (not \"int\") to str"
     ]
    }
   ],
   "source": [
    "    s = \"abcd\"\n",
    "    print(s + 12)"
   ]
  },
  {
   "cell_type": "code",
   "execution_count": 12,
   "id": "555a7d7b",
   "metadata": {},
   "outputs": [
    {
     "data": {
      "text/plain": [
       "'o'"
      ]
     },
     "execution_count": 12,
     "metadata": {},
     "output_type": "execute_result"
    }
   ],
   "source": [
    "# string slicing\n",
    "s=\"hello\"\n",
    "s[-1:]"
   ]
  },
  {
   "cell_type": "code",
   "execution_count": 13,
   "id": "a9f6c1ae",
   "metadata": {},
   "outputs": [
    {
     "name": "stdout",
     "output_type": "stream",
     "text": [
      "gh\n"
     ]
    }
   ],
   "source": [
    "s = \"abcdefghi\"\n",
    "print(s[-3:-1])"
   ]
  },
  {
   "cell_type": "markdown",
   "id": "02bcb100",
   "metadata": {},
   "source": [
    "### Tuples"
   ]
  },
  {
   "cell_type": "code",
   "execution_count": 14,
   "id": "4b4bb222",
   "metadata": {},
   "outputs": [
    {
     "name": "stdout",
     "output_type": "stream",
     "text": [
      "(1, 2)\n"
     ]
    }
   ],
   "source": [
    "a = (1,2)\n",
    "print(a)"
   ]
  },
  {
   "cell_type": "code",
   "execution_count": 15,
   "id": "49d3f0c7",
   "metadata": {},
   "outputs": [
    {
     "name": "stdout",
     "output_type": "stream",
     "text": [
      "3\n",
      "4\n"
     ]
    }
   ],
   "source": [
    "b,c = 3,4\n",
    "print(b)\n",
    "print(c)\n"
   ]
  },
  {
   "cell_type": "code",
   "execution_count": 16,
   "id": "613aeabf",
   "metadata": {},
   "outputs": [
    {
     "data": {
      "text/plain": [
       "2"
      ]
     },
     "execution_count": 16,
     "metadata": {},
     "output_type": "execute_result"
    }
   ],
   "source": [
    "a[1]"
   ]
  },
  {
   "cell_type": "code",
   "execution_count": 17,
   "id": "9641786e",
   "metadata": {},
   "outputs": [
    {
     "data": {
      "text/plain": [
       "2"
      ]
     },
     "execution_count": 17,
     "metadata": {},
     "output_type": "execute_result"
    }
   ],
   "source": [
    "a[-1]"
   ]
  },
  {
   "cell_type": "code",
   "execution_count": 18,
   "id": "545e56d4",
   "metadata": {},
   "outputs": [
    {
     "ename": "TypeError",
     "evalue": "'tuple' object does not support item assignment",
     "output_type": "error",
     "traceback": [
      "\u001b[0;31m---------------------------------------------------------------------------\u001b[0m",
      "\u001b[0;31mTypeError\u001b[0m                                 Traceback (most recent call last)",
      "Cell \u001b[0;32mIn[18], line 2\u001b[0m\n\u001b[1;32m      1\u001b[0m \u001b[38;5;66;03m# tuples are immutable\u001b[39;00m\n\u001b[0;32m----> 2\u001b[0m \u001b[43ma\u001b[49m\u001b[43m[\u001b[49m\u001b[38;5;241;43m3\u001b[39;49m\u001b[43m]\u001b[49m \u001b[38;5;241m=\u001b[39m\u001b[38;5;241m5\u001b[39m\n",
      "\u001b[0;31mTypeError\u001b[0m: 'tuple' object does not support item assignment"
     ]
    }
   ],
   "source": [
    "# tuples are immutable\n",
    "a[3] = 5\n"
   ]
  },
  {
   "cell_type": "markdown",
   "id": "948ba972",
   "metadata": {},
   "source": [
    "### if-else"
   ]
  },
  {
   "cell_type": "code",
   "execution_count": 19,
   "id": "e64f8253",
   "metadata": {},
   "outputs": [
    {
     "name": "stdout",
     "output_type": "stream",
     "text": [
      "B\n"
     ]
    }
   ],
   "source": [
    "if (10 < 0) and (0 < -10):\n",
    "     print(\"A\")\n",
    "\n",
    "elif (10 > 0) or False:\n",
    "     print(\"B\")\n",
    "\n",
    "else:\n",
    "     print(\"C\")"
   ]
  },
  {
   "cell_type": "code",
   "execution_count": 20,
   "id": "9fb0cb39",
   "metadata": {},
   "outputs": [
    {
     "name": "stdout",
     "output_type": "stream",
     "text": [
      "B\n"
     ]
    }
   ],
   "source": [
    "if True or True: # true\n",
    "    if False and True or False: # false\n",
    "        print('A')\n",
    "    elif False and False or True and True: # true\n",
    "       print('B')\n",
    "    else:\n",
    "      print('C')\n",
    "else:\n",
    "     print('D')"
   ]
  },
  {
   "cell_type": "code",
   "execution_count": 23,
   "id": "f2cb6800",
   "metadata": {},
   "outputs": [
    {
     "name": "stdout",
     "output_type": "stream",
     "text": [
      "abcd\n",
      "a\n",
      "a\n",
      "a\n"
     ]
    }
   ],
   "source": [
    "x = 'abcd'\n",
    "for i in range(len(x)):\n",
    "   print(x)\n",
    "   x = 'a'"
   ]
  },
  {
   "cell_type": "markdown",
   "id": "27a883fb",
   "metadata": {},
   "source": [
    "### Functions"
   ]
  },
  {
   "cell_type": "code",
   "execution_count": 47,
   "id": "96defa96",
   "metadata": {},
   "outputs": [
    {
     "name": "stdout",
     "output_type": "stream",
     "text": [
      "['hello', 'world']\n",
      "olleh\n",
      "dlrow\n",
      "olleh dlrow \n"
     ]
    }
   ],
   "source": [
    "def reverseEachWord(s) :\n",
    "    # Your code goes here\n",
    "    string = s.split(' ')\n",
    "    print(string)\n",
    "    rev= \"\" \n",
    "    for i in string:\n",
    "        j = i[::-1]\n",
    "        print(j)\n",
    "        rev += j + \" \"\n",
    "    return rev\n",
    "\n",
    "#main\n",
    "s1 = \"hello world\"\n",
    "ans = reverseEachWord(s1)\n",
    "print(ans)"
   ]
  },
  {
   "cell_type": "code",
   "execution_count": 56,
   "id": "c212c4a8",
   "metadata": {},
   "outputs": [],
   "source": [
    "def sum(a,b, *more):\n",
    "    ans = a+b\n",
    "    for i in more:\n",
    "        ans += i\n",
    "    return ans"
   ]
  },
  {
   "cell_type": "code",
   "execution_count": 57,
   "id": "730e5103",
   "metadata": {},
   "outputs": [
    {
     "name": "stdout",
     "output_type": "stream",
     "text": [
      "14\n"
     ]
    }
   ],
   "source": [
    "ans = sum(2,3,4,5)\n",
    "print(ans)"
   ]
  },
  {
   "cell_type": "code",
   "execution_count": 58,
   "id": "d0060934",
   "metadata": {},
   "outputs": [
    {
     "data": {
      "text/plain": [
       "(9, 1)"
      ]
     },
     "execution_count": 58,
     "metadata": {},
     "output_type": "execute_result"
    }
   ],
   "source": [
    "def sum_diff(a,b):\n",
    "    return a+b, a-b\n",
    "\n",
    "sum_diff(5,4)"
   ]
  },
  {
   "cell_type": "code",
   "execution_count": 59,
   "id": "fad262be",
   "metadata": {},
   "outputs": [
    {
     "name": "stdout",
     "output_type": "stream",
     "text": [
      "50\n"
     ]
    }
   ],
   "source": [
    "x = 50\n",
    "def change(x):\n",
    "     x = 2\n",
    "change(x)\n",
    "print(x)"
   ]
  },
  {
   "cell_type": "code",
   "execution_count": 61,
   "id": "54c71a2f",
   "metadata": {},
   "outputs": [
    {
     "name": "stdout",
     "output_type": "stream",
     "text": [
      "9 27\n"
     ]
    }
   ],
   "source": [
    "def power(x, y=2):\n",
    "    ans = 1\n",
    "    for i in range(y):\n",
    "        ans = ans * x\n",
    "    return ans\n",
    "print(power(3), end=\" \")\n",
    "print(power(3,3))"
   ]
  },
  {
   "cell_type": "markdown",
   "id": "4b674e3f",
   "metadata": {},
   "source": [
    "### Assignment"
   ]
  },
  {
   "cell_type": "code",
   "execution_count": 93,
   "id": "8a84f9e8",
   "metadata": {},
   "outputs": [
    {
     "name": "stdout",
     "output_type": "stream",
     "text": [
      "1          1 \n",
      "1 2       2 1 \n",
      "1 2 3    3 2 1 \n",
      "1 2 3 4 4 3 2 1 \n"
     ]
    }
   ],
   "source": [
    "'''\n",
    "1    1\n",
    "12  21\n",
    "123321\n",
    "'''\n",
    "def pattern(n):\n",
    "    for i in range(1,n+1):\n",
    "        for j in range(1,n+1):\n",
    "            if j<=i:\n",
    "                print(j, end=\" \")\n",
    "                \n",
    "            else:\n",
    "                print(\" \", end=\" \")\n",
    "        for j in range(1,n+1):\n",
    "            if n-j >= i:\n",
    "                print(\" \", end=\"\")\n",
    "            else:\n",
    "                print(n-j+1, end=\" \")\n",
    "        print()\n",
    "pattern(4)"
   ]
  },
  {
   "cell_type": "code",
   "execution_count": 97,
   "id": "0e679c51",
   "metadata": {},
   "outputs": [
    {
     "name": "stdout",
     "output_type": "stream",
     "text": [
      "8\n",
      "10\n"
     ]
    }
   ],
   "source": [
    "# Even Fibbonaci\n",
    "N = int(input())\n",
    "sum = 0\n",
    "n1= 1\n",
    "n2 =1\n",
    "while(n1 <= N):\n",
    "    if n1%2 == 0:\n",
    "        sum+= n1\n",
    "    fib = n1+n2\n",
    "    n1 = n2\n",
    "    n2 = fib\n",
    "print(sum)"
   ]
  },
  {
   "cell_type": "code",
   "execution_count": 102,
   "id": "1a84815b",
   "metadata": {},
   "outputs": [
    {
     "name": "stdout",
     "output_type": "stream",
     "text": [
      "12\n",
      "1100\n"
     ]
    }
   ],
   "source": [
    "# decimal to binary conversion\n",
    "n = int(input())\n",
    "binary = \"\"\n",
    "if n==0:\n",
    "    print(0)\n",
    "else:\n",
    "    while(n>=1):\n",
    "        rem = n%2\n",
    "        n = n//2\n",
    "        binary += str(rem)\n",
    "    print(int(binary[::-1]))"
   ]
  },
  {
   "cell_type": "code",
   "execution_count": 109,
   "id": "66ea5116",
   "metadata": {},
   "outputs": [
    {
     "name": "stdout",
     "output_type": "stream",
     "text": [
      "9\n",
      "2\n",
      "3\n",
      "5\n",
      "7\n"
     ]
    }
   ],
   "source": [
    "# prime number in the given range\n",
    "n = int(input())\n",
    "for i in range(2,n+1):\n",
    "    prime = True\n",
    "    for j in range(2, (i//2)+1):\n",
    "            if i%j == 0:\n",
    "                prime = False\n",
    "                break\n",
    "    if prime:\n",
    "        print(i)"
   ]
  },
  {
   "cell_type": "markdown",
   "id": "2e1e627a",
   "metadata": {},
   "source": [
    "### List"
   ]
  },
  {
   "cell_type": "code",
   "execution_count": 118,
   "id": "21a52f26",
   "metadata": {},
   "outputs": [
    {
     "name": "stdout",
     "output_type": "stream",
     "text": [
      "abc\n"
     ]
    }
   ],
   "source": [
    "aList = [123, 'xyz', 'zara', 'abc'];\n",
    "print(aList.pop())"
   ]
  },
  {
   "cell_type": "markdown",
   "id": "4bd74699",
   "metadata": {},
   "source": [
    "### Dictionaries"
   ]
  },
  {
   "cell_type": "code",
   "execution_count": 120,
   "id": "213c2cd3",
   "metadata": {},
   "outputs": [
    {
     "data": {
      "text/plain": [
       "False"
      ]
     },
     "execution_count": 120,
     "metadata": {},
     "output_type": "execute_result"
    }
   ],
   "source": [
    "d1 = {\"john\":40, \"peter\":45}\n",
    "d2 = {\"john\":466, \"peter\":45}\n",
    "d1 == d2"
   ]
  },
  {
   "cell_type": "code",
   "execution_count": 3,
   "id": "0b5da162-0e31-4de4-ade6-4de0c1165b20",
   "metadata": {},
   "outputs": [],
   "source": [
    "c = dict.fromkeys(['abc', 10, 5], 1)"
   ]
  },
  {
   "cell_type": "code",
   "execution_count": 4,
   "id": "6d048120-3280-48ec-9245-98a11295e0c8",
   "metadata": {},
   "outputs": [
    {
     "data": {
      "text/plain": [
       "{'abc': 1, 10: 1, 5: 1}"
      ]
     },
     "execution_count": 4,
     "metadata": {},
     "output_type": "execute_result"
    }
   ],
   "source": [
    "c"
   ]
  },
  {
   "cell_type": "code",
   "execution_count": 6,
   "id": "b914d175-3c61-4c2d-8acf-a7713cc75da3",
   "metadata": {},
   "outputs": [
    {
     "data": {
      "text/plain": [
       "{'a': 7, 'c': 100}"
      ]
     },
     "execution_count": 6,
     "metadata": {},
     "output_type": "execute_result"
    }
   ],
   "source": [
    "d = dict([['a', 7], ['c', 100]])\n",
    "d"
   ]
  },
  {
   "cell_type": "code",
   "execution_count": 8,
   "id": "b8f2b2d5-1916-47bc-b71d-82e83d2415be",
   "metadata": {},
   "outputs": [
    {
     "name": "stdout",
     "output_type": "stream",
     "text": [
      "7\n",
      "7\n"
     ]
    }
   ],
   "source": [
    "print(d['a'])\n",
    "print(d.get('a'))"
   ]
  },
  {
   "cell_type": "code",
   "execution_count": 11,
   "id": "094219f1-6379-48a0-b76f-e9611e1319df",
   "metadata": {},
   "outputs": [
    {
     "data": {
      "text/plain": [
       "(dict_keys(['a', 'c']),\n",
       " dict_values([7, 100]),\n",
       " dict_items([('a', 7), ('c', 100)]))"
      ]
     },
     "execution_count": 11,
     "metadata": {},
     "output_type": "execute_result"
    }
   ],
   "source": [
    "d.keys(), d.values(), d.items()"
   ]
  },
  {
   "cell_type": "code",
   "execution_count": 13,
   "id": "33480a37-a79d-465f-8b42-0d8bb97f082d",
   "metadata": {},
   "outputs": [
    {
     "name": "stdout",
     "output_type": "stream",
     "text": [
      "a 7\n",
      "c 100\n"
     ]
    }
   ],
   "source": [
    "for i in d:\n",
    "    print(i, d[i])"
   ]
  },
  {
   "cell_type": "code",
   "execution_count": 121,
   "id": "c0f848f7",
   "metadata": {},
   "outputs": [
    {
     "name": "stdout",
     "output_type": "stream",
     "text": [
      "Hello world\n",
      "['Hello', 'world']\n",
      "<list_reverseiterator object at 0x1059c83a0>\n",
      "world Hello\n"
     ]
    }
   ],
   "source": [
    "# Reverse each word\n",
    "s = str(input())\n",
    "li = s.split(' ')\n",
    "print(li)\n",
    "li = reversed(li)\n",
    "print(li)\n",
    "print(' '.join(li))"
   ]
  },
  {
   "cell_type": "code",
   "execution_count": 129,
   "id": "47c84d8e",
   "metadata": {},
   "outputs": [
    {
     "name": "stdout",
     "output_type": "stream",
     "text": [
      "6\n",
      "3 12 34 2 0 -1\n",
      "[3, 12, 34, 2, 0, -1]\n",
      "34 2 0 -1 "
     ]
    }
   ],
   "source": [
    "# leader element of array\n",
    "n = int(input())\n",
    "\n",
    "arr = [int(i) for i in input().strip().split(\" \")]\n",
    "print(arr)   \n",
    "\n",
    "for i in range(0, n):\n",
    "    isLeader = True\n",
    "    for j in range(i+1, n):\n",
    "        if arr[i] < arr[j]:\n",
    "            isLeader = False\n",
    "            break;\n",
    "    if isLeader:\n",
    "        print(arr[i], end=\" \")"
   ]
  },
  {
   "cell_type": "code",
   "execution_count": null,
   "id": "2d92ff68",
   "metadata": {},
   "outputs": [],
   "source": [
    "# maximize the sum \n",
    "n1 = int(input())\n",
    "arr1 = [int(x) for x in input().strip().split(' ')]\n",
    "\n",
    "n2 = int(input())\n",
    "arr2 = [int(x) for x in input().strip().split(' ')]\n",
    "\n",
    "result = 0\n",
    "sum1 = 0\n",
    "sum2 = 0\n",
    "i,j = 0,0 \n",
    "while i<n1 and j<n2:\n",
    "    if arr1[i] < arr2[j]:\n",
    "        sum1+=arr1[i]\n",
    "        i+=1\n",
    "    elif arr1[i] > arr2[j]:\n",
    "        sum2+=arr2[j]\n",
    "        j+=1\n",
    "    else:\n",
    "        result+=max(sum1, sum2)\n",
    "        sum1, sum2 = 0,0\n",
    "        \n",
    "        while i<n1 and j<n2 and arr1[i]==arr2[j]:\n",
    "            result+=arr1[i]\n",
    "            i+=1\n",
    "            j+=1\n",
    "\n",
    "while i<n1:\n",
    "    sum1+=arr1[i]\n",
    "    i+=1\n",
    "\n",
    "while j<n2:\n",
    "    sum2+=arr2[j]\n",
    "    j+=1\n",
    "\n",
    "result+=max(sum1, sum2)\n",
    "\n",
    "print(result)\n",
    "        "
   ]
  },
  {
   "cell_type": "code",
   "execution_count": null,
   "id": "81dd1d8c",
   "metadata": {},
   "outputs": [],
   "source": []
  }
 ],
 "metadata": {
  "kernelspec": {
   "display_name": "Python 3 (ipykernel)",
   "language": "python",
   "name": "python3"
  },
  "language_info": {
   "codemirror_mode": {
    "name": "ipython",
    "version": 3
   },
   "file_extension": ".py",
   "mimetype": "text/x-python",
   "name": "python",
   "nbconvert_exporter": "python",
   "pygments_lexer": "ipython3",
   "version": "3.11.7"
  }
 },
 "nbformat": 4,
 "nbformat_minor": 5
}
