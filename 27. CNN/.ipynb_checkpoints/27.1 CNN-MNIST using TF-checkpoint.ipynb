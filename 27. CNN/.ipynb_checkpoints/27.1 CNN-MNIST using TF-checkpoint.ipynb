{
 "cells": [
  {
   "cell_type": "code",
   "execution_count": 1,
   "id": "4c3aafbf-ff34-4bf7-b2ad-237402c8d541",
   "metadata": {},
   "outputs": [],
   "source": [
    "import tensorflow as tf\n",
    "import tensorflow_datasets as tfds"
   ]
  },
  {
   "cell_type": "code",
   "execution_count": 2,
   "id": "f6329f91-08f1-4f00-89bb-53ebcf5f6fb0",
   "metadata": {},
   "outputs": [],
   "source": [
    "mnist= tf.keras.datasets.mnist.load_data()"
   ]
  },
  {
   "cell_type": "code",
   "execution_count": 3,
   "id": "d4162038-55d0-435c-b01f-be82f5ced543",
   "metadata": {},
   "outputs": [],
   "source": [
    "input_width = 28\n",
    "input_height = 28\n",
    "input_channels = 1\n",
    "input_pixels = 784\n",
    "\n",
    "n_conv1 = 32\n",
    "n_conv2 = 64\n",
    "\n",
    "stride_conv1 = 1\n",
    "stride_conv2 = 1\n",
    "conv1_k = 5\n",
    "conv2_k = 5\n",
    "\n",
    "max_pool1_k = 2\n",
    "max_pool2_k = 2\n",
    "\n",
    "n_hidden = 1024\n",
    "n_out = 10\n",
    "\n",
    "input_size_to_hidden = input_width//(max_pool1_k*max_pool2_k) * input_height//(max_pool1_k*max_pool2_k) * n_conv2"
   ]
  },
  {
   "cell_type": "code",
   "execution_count": 4,
   "id": "b1204e25-490f-4475-998e-0782a86cb96a",
   "metadata": {},
   "outputs": [],
   "source": [
    "weights = {\n",
    "    # weights for conv layers\n",
    "    \"wc1\" : tf.Variable(tf.random.normal([conv1_k, conv1_k, input_channels, n_conv1])),\n",
    "    \"wc2\" : tf.Variable(tf.random.normal([conv2_k, conv2_k, n_conv1, n_conv2])),\n",
    "    # weights for hidden layers\n",
    "    \"wh1\" : tf.Variable(tf.random.normal([input_size_to_hidden, n_hidden])),\n",
    "    # weights for output layers\n",
    "    \"wo\" : tf.Variable(tf.random.normal([n_hidden, n_out]))\n",
    "}\n",
    "\n",
    "biases = {\n",
    "    \"bc1\" : tf.Variable(tf.random.normal([n_conv1])),\n",
    "    \"bc2\" : tf.Variable(tf.random.normal([n_conv2])),\n",
    "    \"bh1\" : tf.Variable(tf.random.normal([n_hidden])),\n",
    "    \"bo\" : tf.Variable(tf.random.normal([n_out]))\n",
    "}"
   ]
  },
  {
   "cell_type": "code",
   "execution_count": 5,
   "id": "9513b8f9-e541-4fa9-9957-aa40da39004f",
   "metadata": {},
   "outputs": [],
   "source": [
    "def conv(x, weights, bias, strides=1):   \n",
    "    out = tf.nn.conv2d(x, weights, padding='SAME', strides= [1, strides, strides, 1])\n",
    "    out = tf.nn.bias_add(out, bias)\n",
    "    out = tf.nn.relu(out)\n",
    "    return out\n",
    "\n",
    "def maxpooling(x,k=2):\n",
    "    return tf.nn.max_pool(x, padding='SAME', ksize=[1,k,k,1], strides=[1,k,k,1])"
   ]
  },
  {
   "cell_type": "code",
   "execution_count": 6,
   "id": "335f09e3-0dfa-4d01-8758-507449beffa1",
   "metadata": {},
   "outputs": [],
   "source": [
    "def cnn(x, weights, biases, dropout):\n",
    "    # reshape images to nx28x28x1\n",
    "    x = tf.reshape(x, shape = [-1 , input_height, input_width, input_channels])\n",
    "\n",
    "    # passing to conv layer 1 \n",
    "    conv1 = conv(x, weights[\"wc1\"], biases[\"bc1\"], stride_conv1)\n",
    "    # passing through max pooling layer 1\n",
    "    conv1_pool = maxpooling(conv1, max_pool1_k)\n",
    "\n",
    "    # passing to conv layer 2 \n",
    "    conv2 = conv(conv1_pool, weights[\"wc2\"], biases[\"bc2\"], stride_conv2)\n",
    "    # passing through max pooling layer 2\n",
    "    conv2_pool = maxpooling(conv2, max_pool2_k)\n",
    "\n",
    "    # passing to dense layer\n",
    "    hidden_input = tf.reshape(conv2_pool, shape = [-1, input_size_to_hidden])\n",
    "    hidden_output_before_activation = tf.add(tf.matmul(hidden_input, weights[\"wh1\"]), biases[\"bh1\"])\n",
    "    hidden_output_before_droput = tf.nn.relu(hidden_output_before_activation)\n",
    "\n",
    "    # passing through droupout layer\n",
    "    # dropout _rate  = 1-keep_prob\n",
    "    hidden_output = tf.nn.dropout(hidden_output_before_droput, dropout)\n",
    "    # output layer\n",
    "    output = tf.add(tf.matmul(hidden_output, weights[\"wo\"]), biases[\"bo\"])\n",
    "\n",
    "    return output"
   ]
  },
  {
   "cell_type": "code",
   "execution_count": 7,
   "id": "2b06c8c8-0420-4cfb-ae80-709ee13d5683",
   "metadata": {},
   "outputs": [],
   "source": [
    "def loss_fn(predictions, y):\n",
    "    cost = tf.reduce_mean(tf.nn.softmax_cross_entropy_with_logits(logits=predictions, labels = y))\n",
    "    return cost"
   ]
  },
  {
   "cell_type": "code",
   "execution_count": 8,
   "id": "f55e3861-f01c-43b4-83c6-044a8ed2e523",
   "metadata": {},
   "outputs": [],
   "source": [
    "def model(x, dropout):\n",
    "    return cnn(x, weights, biases, dropout)"
   ]
  },
  {
   "cell_type": "code",
   "execution_count": 9,
   "id": "aeca1265-b863-4185-9051-40a954826bed",
   "metadata": {},
   "outputs": [],
   "source": [
    "def train_step(inputs, labels):\n",
    "    with tf.GradientTape() as tape:\n",
    "        predictions = model(inputs, dropout = 0.2)\n",
    "        loss = loss_fn(predictions, labels)\n",
    "    gradients = tape.gradient(loss, list(weights.values()) + list(biases.values()))\n",
    "    optimizer.apply_gradients(zip(gradients, list(weights.values()) + list(biases.values())))\n",
    "    return loss"
   ]
  },
  {
   "cell_type": "code",
   "execution_count": 10,
   "id": "dbc194c4-7a28-4cf7-8497-7a461a141b0d",
   "metadata": {},
   "outputs": [],
   "source": [
    "optimizer = tf.optimizers.Adam(learning_rate=0.01)"
   ]
  },
  {
   "cell_type": "code",
   "execution_count": 11,
   "id": "3d0d4a1f-6193-4b18-9d22-816fbb4655d8",
   "metadata": {},
   "outputs": [],
   "source": [
    "(x_train, y_train), (x_test, y_test) = tf.keras.datasets.mnist.load_data()\n",
    "\n",
    "x_train = x_train.reshape(-1, input_pixels).astype('float32') / 255.0\n",
    "x_test = x_test.reshape(-1, input_pixels).astype('float32') / 255.0\n",
    "\n",
    "y_train = tf.one_hot(y_train, n_out)\n",
    "y_test = tf.one_hot(y_test, n_out)"
   ]
  },
  {
   "cell_type": "code",
   "execution_count": 12,
   "id": "73d0e9a9-a471-4cfe-a0f7-49e57fa303d5",
   "metadata": {},
   "outputs": [
    {
     "name": "stdout",
     "output_type": "stream",
     "text": [
      "Epoch 1, Loss: 988.6290893554688\n",
      "tf.Tensor(593177.44, shape=(), dtype=float32)\n",
      "Epoch 2, Loss: 17.55411148071289\n",
      "tf.Tensor(10532.467, shape=(), dtype=float32)\n",
      "Epoch 3, Loss: 10.601325988769531\n",
      "tf.Tensor(6360.7954, shape=(), dtype=float32)\n",
      "Epoch 4, Loss: 5.649898052215576\n",
      "tf.Tensor(3389.939, shape=(), dtype=float32)\n",
      "Epoch 5, Loss: 7.158421993255615\n",
      "tf.Tensor(4295.053, shape=(), dtype=float32)\n",
      "Epoch 6, Loss: 5.609836101531982\n",
      "tf.Tensor(3365.9016, shape=(), dtype=float32)\n",
      "Epoch 7, Loss: 6.1315999031066895\n",
      "tf.Tensor(3678.96, shape=(), dtype=float32)\n",
      "Epoch 8, Loss: 6.785881996154785\n",
      "tf.Tensor(4071.5293, shape=(), dtype=float32)\n",
      "Epoch 9, Loss: 7.912781715393066\n",
      "tf.Tensor(4747.669, shape=(), dtype=float32)\n",
      "Epoch 10, Loss: 7.835995197296143\n",
      "tf.Tensor(4701.597, shape=(), dtype=float32)\n",
      "Epoch 11, Loss: 10.647860527038574\n",
      "tf.Tensor(6388.7163, shape=(), dtype=float32)\n",
      "Epoch 12, Loss: 4.819756507873535\n",
      "tf.Tensor(2891.854, shape=(), dtype=float32)\n",
      "Epoch 13, Loss: 9.837686538696289\n",
      "tf.Tensor(5902.612, shape=(), dtype=float32)\n",
      "Epoch 14, Loss: 5.20587158203125\n",
      "tf.Tensor(3123.523, shape=(), dtype=float32)\n",
      "Epoch 15, Loss: 3.896597146987915\n",
      "tf.Tensor(2337.9583, shape=(), dtype=float32)\n",
      "Epoch 16, Loss: 5.525942325592041\n",
      "tf.Tensor(3315.5654, shape=(), dtype=float32)\n",
      "Epoch 17, Loss: 3.1064248085021973\n",
      "tf.Tensor(1863.8549, shape=(), dtype=float32)\n",
      "Epoch 18, Loss: 5.611205577850342\n",
      "tf.Tensor(3366.7234, shape=(), dtype=float32)\n",
      "Epoch 19, Loss: 3.7457034587860107\n",
      "tf.Tensor(2247.422, shape=(), dtype=float32)\n",
      "Epoch 20, Loss: 6.512044429779053\n",
      "tf.Tensor(3907.2266, shape=(), dtype=float32)\n",
      "Epoch 21, Loss: 11.016626358032227\n",
      "tf.Tensor(6609.976, shape=(), dtype=float32)\n",
      "Epoch 22, Loss: 2.873744010925293\n",
      "tf.Tensor(1724.2465, shape=(), dtype=float32)\n",
      "Epoch 23, Loss: 0.7924619317054749\n",
      "tf.Tensor(475.47714, shape=(), dtype=float32)\n",
      "Epoch 24, Loss: 2.3292958736419678\n",
      "tf.Tensor(1397.5775, shape=(), dtype=float32)\n",
      "Epoch 25, Loss: 5.451368808746338\n",
      "tf.Tensor(3270.8213, shape=(), dtype=float32)\n"
     ]
    }
   ],
   "source": [
    "batch_size = 100\n",
    "for i in range(25):\n",
    "    num_batches = int(len(x_train)/batch_size)\n",
    "    total_cost = 0\n",
    "    for j in range(num_batches):\n",
    "        batch_x = x_train[i*batch_size : (i+1)*batch_size]\n",
    "        batch_y = y_train[i*batch_size : (i+1)*batch_size]\n",
    "        loss = train_step(batch_x, batch_y)\n",
    "        total_cost += loss\n",
    "    print(f\"Epoch {i+1}, Loss: {total_cost/num_batches}\")\n",
    "    print(total_cost)"
   ]
  },
  {
   "cell_type": "code",
   "execution_count": 13,
   "id": "1f2d5751-2599-41fb-b479-ad9511cb9b7b",
   "metadata": {},
   "outputs": [
    {
     "name": "stdout",
     "output_type": "stream",
     "text": [
      "Test Accuracy: 0.9280999898910522\n"
     ]
    }
   ],
   "source": [
    "predictions = model(x_test, dropout = 0.0)\n",
    "correct_predictions = tf.equal(tf.argmax(predictions, 1), tf.argmax(y_test, 1))\n",
    "accuracy = tf.reduce_mean(tf.cast(correct_predictions, tf.float32))\n",
    "print(f\"Test Accuracy: {accuracy.numpy()}\")"
   ]
  },
  {
   "cell_type": "code",
   "execution_count": null,
   "id": "5720514e-519e-43a2-a0c9-254fb9d38e73",
   "metadata": {},
   "outputs": [],
   "source": []
  }
 ],
 "metadata": {
  "kernelspec": {
   "display_name": "Python 3 (ipykernel)",
   "language": "python",
   "name": "python3"
  },
  "language_info": {
   "codemirror_mode": {
    "name": "ipython",
    "version": 3
   },
   "file_extension": ".py",
   "mimetype": "text/x-python",
   "name": "python",
   "nbconvert_exporter": "python",
   "pygments_lexer": "ipython3",
   "version": "3.12.4"
  }
 },
 "nbformat": 4,
 "nbformat_minor": 5
}
