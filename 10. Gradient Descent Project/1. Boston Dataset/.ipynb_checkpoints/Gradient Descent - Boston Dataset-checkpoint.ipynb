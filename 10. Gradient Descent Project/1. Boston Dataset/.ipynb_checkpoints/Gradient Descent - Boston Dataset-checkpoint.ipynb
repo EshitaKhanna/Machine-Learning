{
 "cells": [
  {
   "cell_type": "code",
   "execution_count": 3,
   "id": "c7ad9715-7774-4f5f-a0ed-decbc31f55fe",
   "metadata": {},
   "outputs": [],
   "source": [
    "import numpy as np\n",
    "import pandas as pd"
   ]
  },
  {
   "cell_type": "code",
   "execution_count": 4,
   "id": "77155f9e-51e3-4e46-b6a7-d12f7d2a2edc",
   "metadata": {},
   "outputs": [
    {
     "data": {
      "text/plain": [
       "(379, 14)"
      ]
     },
     "execution_count": 4,
     "metadata": {},
     "output_type": "execute_result"
    }
   ],
   "source": [
    "data = np.loadtxt(\"training_boston_x_y_train.csv\", delimiter = \",\")\n",
    "data.shape"
   ]
  },
  {
   "cell_type": "code",
   "execution_count": 5,
   "id": "0472e2d7-73a4-438d-92b8-7eed944173eb",
   "metadata": {},
   "outputs": [],
   "source": [
    "X = data[:, 0:13]\n",
    "Y = data[:, 13]"
   ]
  },
  {
   "cell_type": "code",
   "execution_count": 6,
   "id": "c9ce0250-84cf-47b6-8c4c-75fcd4abd2bc",
   "metadata": {},
   "outputs": [
    {
     "data": {
      "text/plain": [
       "array([[-0.40784991, -0.48772236, -1.2660231 , ..., -0.30309415,\n",
       "         0.41057102, -1.09799011],\n",
       "       [-0.40737368, -0.48772236,  0.24705682, ...,  0.1130321 ,\n",
       "         0.29116915, -0.52047412],\n",
       "       [ 0.1251786 , -0.48772236,  1.01599907, ...,  0.80657583,\n",
       "        -3.79579542,  0.89107588],\n",
       "       ...,\n",
       "       [-0.40831101, -0.48772236,  0.24705682, ...,  0.1130321 ,\n",
       "         0.33206621, -0.33404299],\n",
       "       [-0.41061997, -0.48772236, -1.15221381, ..., -0.71922039,\n",
       "         0.203235  , -0.74475218],\n",
       "       [ 0.34290895, -0.48772236,  1.01599907, ...,  0.80657583,\n",
       "         0.38787479, -1.35871335]])"
      ]
     },
     "execution_count": 6,
     "metadata": {},
     "output_type": "execute_result"
    }
   ],
   "source": [
    "X"
   ]
  },
  {
   "cell_type": "code",
   "execution_count": 7,
   "id": "2b66c928-9920-48cf-8c8c-d0a4ac66d625",
   "metadata": {},
   "outputs": [
    {
     "data": {
      "text/plain": [
       "((379, 13), (379,))"
      ]
     },
     "execution_count": 7,
     "metadata": {},
     "output_type": "execute_result"
    }
   ],
   "source": [
    "X.shape, Y.shape"
   ]
  },
  {
   "cell_type": "code",
   "execution_count": 8,
   "id": "8c4135cf-bfff-40c6-9e4f-c9b913138b92",
   "metadata": {},
   "outputs": [],
   "source": [
    "def step_gradient(X, Y, learning_rate, m, c):\n",
    "    m_slope = np.zeros(len(X[0]))\n",
    "    c_slope = 0 \n",
    "\n",
    "    N = len(X)\n",
    "    for i in range(N):\n",
    "        x = X[i]\n",
    "        y = Y[i]\n",
    "\n",
    "        pred = np.dot(m,x) + c\n",
    "        error = y - pred\n",
    "        m_slope += (-2/N) * error * x \n",
    "        c_slope += (-2/N) * error\n",
    "    new_m = m - learning_rate* m_slope\n",
    "    new_c = c - learning_rate* c_slope\n",
    "\n",
    "    return new_m, new_c"
   ]
  },
  {
   "cell_type": "code",
   "execution_count": 9,
   "id": "cb2b7b80-b148-46ad-a917-2bab1d281859",
   "metadata": {},
   "outputs": [],
   "source": [
    "def gradient_descent(X, Y, learning_rate, num_iterations):\n",
    "    m = np.zeros(X.shape[1])\n",
    "    c = 0\n",
    "    for i in range(0, num_iterations, 100):\n",
    "        m,c = step_gradient(X, Y, learning_rate, m, c)\n",
    "        print(i, \"Cost: \", cost(X, Y, m,c))\n",
    "    \n",
    "    return m,c"
   ]
  },
  {
   "cell_type": "code",
   "execution_count": 10,
   "id": "3a3eeb26-a987-4379-b9af-c85f209d7a1a",
   "metadata": {},
   "outputs": [],
   "source": [
    "def cost(X, Y, m, c):\n",
    "    total_cost = 0\n",
    "    N = len(X)\n",
    "    for i in range(N):\n",
    "        x = X[i]\n",
    "        y = Y[i]\n",
    "        pred = np.dot(m, x) + c\n",
    "        total_cost += (1/N) * ((y - pred)**2)\n",
    "\n",
    "    return total_cost"
   ]
  },
  {
   "cell_type": "code",
   "execution_count": 12,
   "id": "625248ba-afac-4b8c-8bb2-230885d1501d",
   "metadata": {},
   "outputs": [],
   "source": [
    "def score(Y_true,Y_pred):\n",
    "    u = ((Y_true-Y_pred)**2).sum()\n",
    "    v = ((Y_true-(Y_true.mean()))**2).sum()\n",
    "    return 1-(u/v)"
   ]
  },
  {
   "cell_type": "code",
   "execution_count": 37,
   "id": "6bde04fc-cc80-4409-97c6-dd3249afdccd",
   "metadata": {},
   "outputs": [],
   "source": [
    "def run():\n",
    "    data = np.loadtxt(\"training_boston_x_y_train.csv\", delimiter = \",\")\n",
    "    X = data[:, 0:13]\n",
    "    Y = data[:, 13]\n",
    "    learning_rate = 0.038\n",
    "    num_iterations = 6000\n",
    "    m, c = gradient_descent(X, Y, learning_rate, num_iterations)\n",
    "    print(\"Trained parameters:\", m, c)\n",
    "\n",
    "    # Load the test data\n",
    "    test_data = np.loadtxt(\"test_boston_x_test.csv\", delimiter=\",\")\n",
    "\n",
    "    # Make predictions on the test set\n",
    "    predictions = np.dot(test_data, m) + c\n",
    "    print(\"Predictions\", predictions)\n",
    "    np.savetxt('pred.csv',predictions)\n",
    "\n",
    "    return predictions"
   ]
  },
  {
   "cell_type": "code",
   "execution_count": 38,
   "id": "53228c5c-56bc-443f-96dd-6746ee716ce9",
   "metadata": {},
   "outputs": [
    {
     "name": "stdout",
     "output_type": "stream",
     "text": [
      "0 Cost:  499.92686341192336\n",
      "100 Cost:  425.0366543501378\n",
      "200 Cost:  364.1105076547577\n",
      "300 Cost:  313.15938531979504\n",
      "400 Cost:  270.1353688737774\n",
      "500 Cost:  233.6771225571531\n",
      "600 Cost:  202.73767837856934\n",
      "700 Cost:  176.46137025699085\n",
      "800 Cost:  154.13321022241212\n",
      "900 Cost:  135.15104596447483\n",
      "1000 Cost:  119.00625731464507\n",
      "1100 Cost:  105.26867124542181\n",
      "1200 Cost:  93.5741941885747\n",
      "1300 Cost:  83.61449422432054\n",
      "1400 Cost:  75.1283388548329\n",
      "1500 Cost:  67.89430436552819\n",
      "1600 Cost:  61.724632004286704\n",
      "1700 Cost:  56.46004645745984\n",
      "1800 Cost:  51.96538311241021\n",
      "1900 Cost:  48.12589575252846\n",
      "2000 Cost:  44.84413712981978\n",
      "2100 Cost:  42.03732217906613\n",
      "2200 Cost:  39.63509810097469\n",
      "2300 Cost:  37.57765763881751\n",
      "2400 Cost:  35.814142001496926\n",
      "2500 Cost:  34.301288373378725\n",
      "2600 Cost:  33.00228406909727\n",
      "2700 Cost:  31.885795365297916\n",
      "2800 Cost:  30.925144058437148\n",
      "2900 Cost:  30.09760901443678\n",
      "3000 Cost:  29.3838335222713\n",
      "3100 Cost:  28.76732224799429\n",
      "3200 Cost:  28.234014098872972\n",
      "3300 Cost:  27.771919424911292\n",
      "3400 Cost:  27.370811770403453\n",
      "3500 Cost:  27.02196589426397\n",
      "3600 Cost:  26.717935049097054\n",
      "3700 Cost:  26.45236158250649\n",
      "3800 Cost:  26.219815831203753\n",
      "3900 Cost:  26.015659045247173\n",
      "4000 Cost:  25.8359267282367\n",
      "4100 Cost:  25.67722932800146\n",
      "4200 Cost:  25.536667676799357\n",
      "4300 Cost:  25.411760973405478\n",
      "4400 Cost:  25.30038543271728\n",
      "4500 Cost:  25.200722010951687\n",
      "4600 Cost:  25.111211853984493\n",
      "4700 Cost:  25.030518319497915\n",
      "4800 Cost:  24.957494595939597\n",
      "4900 Cost:  24.891156087568234\n",
      "5000 Cost:  24.83065685904925\n",
      "5100 Cost:  24.775269538537458\n",
      "5200 Cost:  24.72436816778625\n",
      "5300 Cost:  24.677413563968422\n",
      "5400 Cost:  24.633940822618843\n",
      "5500 Cost:  24.593548646140672\n",
      "5600 Cost:  24.555890229122067\n",
      "5700 Cost:  24.520665471524154\n",
      "5800 Cost:  24.487614324679942\n",
      "5900 Cost:  24.456511103876018\n",
      "Trained parameters: [-0.77325016  0.27185266 -0.3666383   0.86412698 -1.10393159  3.03396392\n",
      "  0.04448789 -1.79772275  0.97306497 -0.37527497 -1.94137832  0.66123796\n",
      " -3.82553989] 22.424724660217073\n",
      "Predictions [10.51322908 28.69608964 22.01738827 23.91367672 20.7303681   3.06594143\n",
      " 28.24912407 23.63636716 18.52993083 22.62536178 24.32534168 18.03807614\n",
      " 19.43827704 21.79186826 43.29740337 23.86996801 24.01750791 26.95477278\n",
      " 20.23549471 31.0637216  23.6813827  23.88468814 33.11527324 34.9500377\n",
      " 32.10902588 15.00913112 21.7549629  31.84468399 24.14324228 33.01367937\n",
      " 17.43814554 25.58656843 23.5329895  25.30649664 15.13321093 28.37704865\n",
      " 25.52420673 20.34762607 23.92830183  9.85966757  5.99890803 27.91591679\n",
      " 28.96827428 20.50167095 20.18780367  1.90057609 39.90656665 25.68291847\n",
      " 30.19817094 17.4193832  17.31402921 39.01667585 18.18241441 20.45055438\n",
      " 16.23533167 21.06042159 18.34680068 22.4201524  13.9904318  17.41632587\n",
      " 14.76688684 28.75203787 24.40726253 25.39472719 16.52598727 15.65307681\n",
      " 34.11069843 17.34151263 25.96168774 22.15018483 28.65444952 26.15690139\n",
      " 18.63879304  4.79585115 35.44470514 24.82133766 28.33195497 25.96327859\n",
      " 15.98246065 32.50094874 19.65769037 22.70093899 22.97057629  8.75363638\n",
      " 17.70514662 29.83513533 27.15604119  5.15394167 19.87636053 19.68285788\n",
      " 21.55466152 20.52613366 20.82008608 13.6480063  19.92140917 27.29316455\n",
      " 39.20714278 17.83733572 32.39903795 26.10537067 26.60232267 22.32696653\n",
      " 24.67453593 30.40174644 17.52140121 25.17681624 21.56570334 36.74890427\n",
      " 22.18753825 16.57010605 27.50959343 -1.50386083 13.84764511 14.64586118\n",
      " 35.63975197 20.66152304 21.79521885 24.73637156 21.88842556 19.33206053\n",
      " 14.08535612 33.62602418 22.45951502 24.00287805 19.60773851 20.41662172\n",
      " 15.17501424]\n"
     ]
    }
   ],
   "source": [
    "predictions = run()\n",
    "np.savetxt('pred.csv',predictions)"
   ]
  },
  {
   "cell_type": "code",
   "execution_count": 14,
   "id": "8da05c12-a453-4b29-b34b-c8a8a887472b",
   "metadata": {},
   "outputs": [
    {
     "data": {
      "text/plain": [
       "(127, 13)"
      ]
     },
     "execution_count": 14,
     "metadata": {},
     "output_type": "execute_result"
    }
   ],
   "source": [
    "test_data = np.loadtxt(\"test_boston_x_test.csv\", delimiter=\",\")\n",
    "test_data.shape"
   ]
  },
  {
   "cell_type": "code",
   "execution_count": null,
   "id": "204acedf-f0ec-41f8-9765-1351982a4a78",
   "metadata": {},
   "outputs": [],
   "source": []
  }
 ],
 "metadata": {
  "kernelspec": {
   "display_name": "Python 3 (ipykernel)",
   "language": "python",
   "name": "python3"
  },
  "language_info": {
   "codemirror_mode": {
    "name": "ipython",
    "version": 3
   },
   "file_extension": ".py",
   "mimetype": "text/x-python",
   "name": "python",
   "nbconvert_exporter": "python",
   "pygments_lexer": "ipython3",
   "version": "3.11.7"
  }
 },
 "nbformat": 4,
 "nbformat_minor": 5
}
