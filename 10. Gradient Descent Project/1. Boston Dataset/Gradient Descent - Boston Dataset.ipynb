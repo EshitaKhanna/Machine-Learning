{
 "cells": [
  {
   "cell_type": "code",
   "execution_count": 3,
   "id": "c7ad9715-7774-4f5f-a0ed-decbc31f55fe",
   "metadata": {},
   "outputs": [],
   "source": [
    "import numpy as np\n",
    "import pandas as pd"
   ]
  },
  {
   "cell_type": "code",
   "execution_count": 4,
   "id": "77155f9e-51e3-4e46-b6a7-d12f7d2a2edc",
   "metadata": {},
   "outputs": [
    {
     "data": {
      "text/plain": [
       "(379, 14)"
      ]
     },
     "execution_count": 4,
     "metadata": {},
     "output_type": "execute_result"
    }
   ],
   "source": [
    "data = np.loadtxt(\"training_boston_x_y_train.csv\", delimiter = \",\")\n",
    "data.shape"
   ]
  },
  {
   "cell_type": "code",
   "execution_count": 5,
   "id": "0472e2d7-73a4-438d-92b8-7eed944173eb",
   "metadata": {},
   "outputs": [],
   "source": [
    "X = data[:, 0:13]\n",
    "Y = data[:, 13]"
   ]
  },
  {
   "cell_type": "code",
   "execution_count": 6,
   "id": "c9ce0250-84cf-47b6-8c4c-75fcd4abd2bc",
   "metadata": {},
   "outputs": [
    {
     "data": {
      "text/plain": [
       "array([[-0.40784991, -0.48772236, -1.2660231 , ..., -0.30309415,\n",
       "         0.41057102, -1.09799011],\n",
       "       [-0.40737368, -0.48772236,  0.24705682, ...,  0.1130321 ,\n",
       "         0.29116915, -0.52047412],\n",
       "       [ 0.1251786 , -0.48772236,  1.01599907, ...,  0.80657583,\n",
       "        -3.79579542,  0.89107588],\n",
       "       ...,\n",
       "       [-0.40831101, -0.48772236,  0.24705682, ...,  0.1130321 ,\n",
       "         0.33206621, -0.33404299],\n",
       "       [-0.41061997, -0.48772236, -1.15221381, ..., -0.71922039,\n",
       "         0.203235  , -0.74475218],\n",
       "       [ 0.34290895, -0.48772236,  1.01599907, ...,  0.80657583,\n",
       "         0.38787479, -1.35871335]])"
      ]
     },
     "execution_count": 6,
     "metadata": {},
     "output_type": "execute_result"
    }
   ],
   "source": [
    "X"
   ]
  },
  {
   "cell_type": "code",
   "execution_count": 7,
   "id": "2b66c928-9920-48cf-8c8c-d0a4ac66d625",
   "metadata": {},
   "outputs": [
    {
     "data": {
      "text/plain": [
       "((379, 13), (379,))"
      ]
     },
     "execution_count": 7,
     "metadata": {},
     "output_type": "execute_result"
    }
   ],
   "source": [
    "X.shape, Y.shape"
   ]
  },
  {
   "cell_type": "code",
   "execution_count": 8,
   "id": "8c4135cf-bfff-40c6-9e4f-c9b913138b92",
   "metadata": {},
   "outputs": [],
   "source": [
    "def step_gradient(X, Y, learning_rate, m, c):\n",
    "    m_slope = np.zeros(len(X[0]))\n",
    "    c_slope = 0 \n",
    "\n",
    "    N = len(X)\n",
    "    for i in range(N):\n",
    "        x = X[i]\n",
    "        y = Y[i]\n",
    "\n",
    "        pred = np.dot(m,x) + c\n",
    "        error = y - pred\n",
    "        m_slope += (-2/N) * error * x \n",
    "        c_slope += (-2/N) * error\n",
    "    new_m = m - learning_rate* m_slope\n",
    "    new_c = c - learning_rate* c_slope\n",
    "\n",
    "    return new_m, new_c"
   ]
  },
  {
   "cell_type": "code",
   "execution_count": 9,
   "id": "cb2b7b80-b148-46ad-a917-2bab1d281859",
   "metadata": {},
   "outputs": [],
   "source": [
    "def gradient_descent(X, Y, learning_rate, num_iterations):\n",
    "    m = np.zeros(X.shape[1])\n",
    "    c = 0\n",
    "    for i in range(0, num_iterations, 100):\n",
    "        m,c = step_gradient(X, Y, learning_rate, m, c)\n",
    "        print(i, \"Cost: \", cost(X, Y, m,c))\n",
    "    \n",
    "    return m,c"
   ]
  },
  {
   "cell_type": "code",
   "execution_count": 10,
   "id": "3a3eeb26-a987-4379-b9af-c85f209d7a1a",
   "metadata": {},
   "outputs": [],
   "source": [
    "def cost(X, Y, m, c):\n",
    "    total_cost = 0\n",
    "    N = len(X)\n",
    "    for i in range(N):\n",
    "        x = X[i]\n",
    "        y = Y[i]\n",
    "        pred = np.dot(m, x) + c\n",
    "        total_cost += (1/N) * ((y - pred)**2)\n",
    "\n",
    "    return total_cost"
   ]
  },
  {
   "cell_type": "code",
   "execution_count": 12,
   "id": "625248ba-afac-4b8c-8bb2-230885d1501d",
   "metadata": {},
   "outputs": [],
   "source": [
    "def score(Y_true,Y_pred):\n",
    "    u = ((Y_true-Y_pred)**2).sum()\n",
    "    v = ((Y_true-(Y_true.mean()))**2).sum()\n",
    "    return 1-(u/v)"
   ]
  },
  {
   "cell_type": "code",
   "execution_count": 43,
   "id": "6bde04fc-cc80-4409-97c6-dd3249afdccd",
   "metadata": {},
   "outputs": [],
   "source": [
    "def run():\n",
    "    data = np.loadtxt(\"training_boston_x_y_train.csv\", delimiter = \",\")\n",
    "    X = data[:, 0:13]\n",
    "    Y = data[:, 13]\n",
    "    learning_rate = 0.036\n",
    "    num_iterations = 8000\n",
    "    m, c = gradient_descent(X, Y, learning_rate, num_iterations)\n",
    "    print(\"Trained parameters:\", m, c)\n",
    "\n",
    "    # Load the test data\n",
    "    test_data = np.loadtxt(\"test_boston_x_test.csv\", delimiter=\",\")\n",
    "\n",
    "    # Make predictions on the test set\n",
    "    predictions = np.dot(test_data, m) + c\n",
    "    print(\"Predictions\", predictions)\n",
    "    np.savetxt('pred.csv',predictions)\n",
    "\n",
    "    return predictions"
   ]
  },
  {
   "cell_type": "code",
   "execution_count": 44,
   "id": "53228c5c-56bc-443f-96dd-6746ee716ce9",
   "metadata": {},
   "outputs": [
    {
     "name": "stdout",
     "output_type": "stream",
     "text": [
      "0 Cost:  504.7277675889557\n",
      "100 Cost:  432.53975299841863\n",
      "200 Cost:  373.4007126780558\n",
      "300 Cost:  323.5970428823503\n",
      "400 Cost:  281.2124829830536\n",
      "500 Cost:  244.99529418061854\n",
      "600 Cost:  213.99521984082162\n",
      "700 Cost:  187.437897940836\n",
      "800 Cost:  164.67396609042822\n",
      "900 Cost:  145.1528684802675\n",
      "1000 Cost:  128.4058201548712\n",
      "1100 Cost:  114.03293611838076\n",
      "1200 Cost:  101.69279064084276\n",
      "1300 Cost:  91.09369911997132\n",
      "1400 Cost:  81.98635612519783\n",
      "1500 Cost:  74.15759089750374\n",
      "1600 Cost:  67.42506030714725\n",
      "1700 Cost:  61.63273382824594\n",
      "1800 Cost:  56.64704963394397\n",
      "1900 Cost:  52.353640195056556\n",
      "2000 Cost:  48.654541583427736\n",
      "2100 Cost:  45.465813887404174\n",
      "2200 Cost:  42.71551124881581\n",
      "2300 Cost:  40.3419493919768\n",
      "2400 Cost:  38.29222642069681\n",
      "2500 Cost:  36.52095934222402\n",
      "2600 Cost:  34.989204431024085\n",
      "2700 Cost:  33.66353433219164\n",
      "2800 Cost:  32.51524885980137\n",
      "2900 Cost:  31.519699883596903\n",
      "3000 Cost:  30.655713613918063\n",
      "3100 Cost:  29.905096070301152\n",
      "3200 Cost:  29.252209621666854\n",
      "3300 Cost:  28.683610272670176\n",
      "3400 Cost:  28.187736889904773\n",
      "3500 Cost:  27.754644853986512\n",
      "3600 Cost:  27.375777723511426\n",
      "3700 Cost:  27.043771433595758\n",
      "3800 Cost:  26.752286349777034\n",
      "3900 Cost:  26.495863178325013\n",
      "4000 Cost:  26.269799314129255\n",
      "4100 Cost:  26.070042702260857\n",
      "4200 Cost:  25.893100711733048\n",
      "4300 Cost:  25.73596188068118\n",
      "4400 Cost:  25.596028700287548\n",
      "4500 Cost:  25.471059868059562\n",
      "4600 Cost:  25.35912066613203\n",
      "4700 Cost:  25.25854031272719\n",
      "4800 Cost:  25.167875299540867\n",
      "4900 Cost:  25.085877868706113\n",
      "5000 Cost:  25.011468903577832\n",
      "5100 Cost:  24.94371461083886\n",
      "5200 Cost:  24.881806459867153\n",
      "5300 Cost:  24.825043921074094\n",
      "5400 Cost:  24.772819609855812\n",
      "5500 Cost:  24.72460649846101\n",
      "5600 Cost:  24.67994690580369\n",
      "5700 Cost:  24.63844301617761\n",
      "5800 Cost:  24.599748712943693\n",
      "5900 Cost:  24.56356254338536\n",
      "6000 Cost:  24.52962165678393\n",
      "6100 Cost:  24.497696579959992\n",
      "6200 Cost:  24.46758671358208\n",
      "6300 Cost:  24.439116448908187\n",
      "6400 Cost:  24.412131818680766\n",
      "6500 Cost:  24.386497607970448\n",
      "6600 Cost:  24.362094861138207\n",
      "6700 Cost:  24.338818730001883\n",
      "6800 Cost:  24.3165766159559\n",
      "6900 Cost:  24.295286565380966\n",
      "7000 Cost:  24.274875883345132\n",
      "7100 Cost:  24.255279935467954\n",
      "7200 Cost:  24.23644111200844\n",
      "7300 Cost:  24.21830793184244\n",
      "7400 Cost:  24.200834267092898\n",
      "7500 Cost:  24.18397867184621\n",
      "7600 Cost:  24.16770380068143\n",
      "7700 Cost:  24.151975904715915\n",
      "7800 Cost:  24.136764394570974\n",
      "7900 Cost:  24.122041461124983\n",
      "Trained parameters: [-0.78529205  0.30836907 -0.36204348  0.83679963 -1.28998785  2.87313137\n",
      "  0.02908294 -2.04017142  1.12127075 -0.45343343 -2.01379945  0.63865822\n",
      " -3.9651435 ] 22.578965318935563\n",
      "Predictions [11.01334463 28.87466201 22.23625127 24.13146757 20.91469677  3.0171593\n",
      " 28.6640382  23.96902818 18.71538013 22.98217419 24.45687269 18.08286028\n",
      " 19.28792114 21.92853527 43.18211812 24.06076443 24.28836029 27.27996097\n",
      " 20.40006151 31.26828265 23.94058313 24.25921628 33.44845254 35.27656991\n",
      " 32.22360627 15.4052669  22.24822568 32.3066103  24.30039402 33.1765769\n",
      " 17.43809224 25.93452465 23.61525755 25.44767772 15.14956591 28.78452566\n",
      " 25.79820715 20.52544086 24.07766109  9.7914352   6.58771862 28.23743614\n",
      " 29.23311071 20.47456515 20.33119125  2.2246058  39.87632179 25.80698221\n",
      " 30.13441503 17.34391206 17.52122937 39.31989774 18.10988103 20.7780082\n",
      " 16.19355082 21.22984139 18.47933527 22.74070373 14.03965218 17.43646486\n",
      " 15.01920245 28.98825691 24.75366622 25.57713403 16.73861295 16.14789064\n",
      " 34.336457   17.31992509 26.21570823 22.33412476 29.00160663 26.49562558\n",
      " 18.66054007  5.05924138 35.67563042 25.02067751 28.75098196 26.33033163\n",
      " 16.07897269 32.61896109 19.69942773 22.85152293 23.21515258  8.64308279\n",
      " 17.71708068 29.86849466 27.19418337  5.32524597 20.1477521  19.84974765\n",
      " 21.8387144  20.70728864 21.00713576 13.58091195 20.06251411 27.25416048\n",
      " 39.42213493 18.05473906 32.70335247 26.35809834 27.21238768 22.37211501\n",
      " 24.90472601 30.8251212  17.52385222 25.57515532 21.74989327 36.88779817\n",
      " 22.2196648  16.7163869  27.66914127 -1.21456464 14.01050532 15.10939711\n",
      " 35.77442278 20.91412217 21.69149828 24.99052066 22.0943458  19.45682679\n",
      " 14.03041758 34.11782066 22.80750316 24.30060241 19.39314824 20.65526875\n",
      " 15.32195334]\n"
     ]
    }
   ],
   "source": [
    "predictions = run()\n",
    "np.savetxt('pred.csv',predictions)"
   ]
  },
  {
   "cell_type": "code",
   "execution_count": 14,
   "id": "8da05c12-a453-4b29-b34b-c8a8a887472b",
   "metadata": {},
   "outputs": [
    {
     "data": {
      "text/plain": [
       "(127, 13)"
      ]
     },
     "execution_count": 14,
     "metadata": {},
     "output_type": "execute_result"
    }
   ],
   "source": [
    "test_data = np.loadtxt(\"test_boston_x_test.csv\", delimiter=\",\")\n",
    "test_data.shape"
   ]
  },
  {
   "cell_type": "code",
   "execution_count": null,
   "id": "204acedf-f0ec-41f8-9765-1351982a4a78",
   "metadata": {},
   "outputs": [],
   "source": []
  }
 ],
 "metadata": {
  "kernelspec": {
   "display_name": "Python 3 (ipykernel)",
   "language": "python",
   "name": "python3"
  },
  "language_info": {
   "codemirror_mode": {
    "name": "ipython",
    "version": 3
   },
   "file_extension": ".py",
   "mimetype": "text/x-python",
   "name": "python",
   "nbconvert_exporter": "python",
   "pygments_lexer": "ipython3",
   "version": "3.11.7"
  }
 },
 "nbformat": 4,
 "nbformat_minor": 5
}
